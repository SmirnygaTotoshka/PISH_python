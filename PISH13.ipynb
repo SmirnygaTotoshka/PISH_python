{
 "cells": [
  {
   "cell_type": "code",
   "execution_count": 1,
   "id": "a010e0a7-0ace-476c-8086-6a2c7725b2f2",
   "metadata": {},
   "outputs": [],
   "source": [
    "import pandas as pd"
   ]
  },
  {
   "cell_type": "code",
   "execution_count": null,
   "id": "7b1becac-4217-4144-bced-8dd30d73de34",
   "metadata": {},
   "outputs": [],
   "source": [
    "age_sex = titanic[[\"Age\", \"Sex\"]]"
   ]
  },
  {
   "cell_type": "code",
   "execution_count": null,
   "id": "70928c2f-0204-412c-a60f-4fca3e85f480",
   "metadata": {},
   "outputs": [],
   "source": [
    "needed_columns = [\"Age\", \"Sex\"]\n",
    "age_sex = titanic[needed_columns]"
   ]
  },
  {
   "cell_type": "code",
   "execution_count": null,
   "id": "14a96a11-978b-46fb-88cc-d47082f6e676",
   "metadata": {},
   "outputs": [],
   "source": [
    "Первые три туториала с сайта с модифицированными заданиями"
   ]
  },
  {
   "cell_type": "code",
   "execution_count": null,
   "id": "6af42ef7-ed3d-477d-b512-e12d38b6bf07",
   "metadata": {},
   "outputs": [],
   "source": [
    "df = titanic[(titanic[\"Survived\"] == 1) & (titanic[\"Cabin\"].notna()), [\"Name\",\"Age\",\"Cabin\"]]\n",
    "df"
   ]
  },
  {
   "cell_type": "code",
   "execution_count": null,
   "id": "fcc7ef22-45b0-431e-9277-7e2475fcc4d9",
   "metadata": {},
   "outputs": [],
   "source": [
    "titanic.iloc[99:300, 6:10]"
   ]
  },
  {
   "cell_type": "code",
   "execution_count": null,
   "id": "93271acd-a269-49f3-aeb6-13c531b1fd39",
   "metadata": {},
   "outputs": [],
   "source": [
    "titanic.iloc[99:300, 4]"
   ]
  }
 ],
 "metadata": {
  "kernelspec": {
   "display_name": "Python [conda env:.conda-disser]",
   "language": "python",
   "name": "conda-env-.conda-disser-py"
  },
  "language_info": {
   "codemirror_mode": {
    "name": "ipython",
    "version": 3
   },
   "file_extension": ".py",
   "mimetype": "text/x-python",
   "name": "python",
   "nbconvert_exporter": "python",
   "pygments_lexer": "ipython3",
   "version": "3.10.15"
  }
 },
 "nbformat": 4,
 "nbformat_minor": 5
}
