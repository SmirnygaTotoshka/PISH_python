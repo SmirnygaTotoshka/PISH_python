{
 "cells": [
  {
   "cell_type": "markdown",
   "id": "4972b462-0e41-4650-9c86-bdddbf3032fb",
   "metadata": {},
   "source": [
    "# 11. Отработка навыков\n",
    "\n",
    "31.01.2025. автор - Смирнов Антон Сергеевич, ассистент кафедры биоинформатики МБФ РНИМУ им. Н.И. Пирогова\n",
    "\n",
    "Подготовлено в рамках цикла профессиональной переподготовки передовой инженерной школы РНИМУ.\n",
    "\n",
    "## Применение некоторой функции к всему списку\n",
    "\n",
    "Вспомним как создавать списки с случайными значениями"
   ]
  },
  {
   "cell_type": "code",
   "execution_count": 1,
   "id": "0d2d10bd-9299-450c-bf8a-dc880032e6cf",
   "metadata": {},
   "outputs": [],
   "source": [
    "import random"
   ]
  },
  {
   "cell_type": "code",
   "execution_count": 2,
   "id": "654c2be4-9d3b-49c2-b971-8284e6e364dc",
   "metadata": {},
   "outputs": [
    {
     "name": "stdout",
     "output_type": "stream",
     "text": [
      "[97, 68, 98, 80, 75, 57, 50, 44, 7, 24]\n"
     ]
    }
   ],
   "source": [
    "random_list = [random.randint(0,100) for _ in range(10)]\n",
    "print(random_list)"
   ]
  },
  {
   "cell_type": "markdown",
   "id": "1c714b4b-b881-4bc5-8a26-e5a137f8b9b7",
   "metadata": {},
   "source": [
    "Стандартный подход применения функции к всему списку, уже известный вам - через цикл. Допустим, нам надо возвести все числа в квадрат."
   ]
  },
  {
   "cell_type": "code",
   "execution_count": 3,
   "id": "b2ee0494-3a10-48ff-b64a-e7742f830582",
   "metadata": {},
   "outputs": [
    {
     "name": "stdout",
     "output_type": "stream",
     "text": [
      "[9409, 4624, 9604, 6400, 5625, 3249, 2500, 1936, 49, 576]\n"
     ]
    }
   ],
   "source": [
    "new_random_list = []\n",
    "for el in random_list:\n",
    "    new_random_list.append(el ** 2)\n",
    "print(new_random_list)"
   ]
  },
  {
   "cell_type": "markdown",
   "id": "47776ce8-18d0-4885-acec-d3edf3c7ce23",
   "metadata": {},
   "source": [
    "Другой подход через использование лямбда-функций и функции map.\n",
    "\n",
    "Функция map принимает на вход два параметра: функцию которую надо применить и список, к которому надо применить передаваемую функцию. Возвращает генератор.\n",
    "\n",
    "Лямбда функции - короткие (в одно действие) анонимные функции, принимающие несколько параметров.\n",
    "\n",
    "Синтаксис лямбда-функции (пример сложения двух чисел):\n",
    "\n",
    "**lambda** param1,param2: param1 + param2"
   ]
  },
  {
   "cell_type": "code",
   "execution_count": 4,
   "id": "274abba0-66d3-4c8b-a6b6-be678a998fbd",
   "metadata": {},
   "outputs": [
    {
     "data": {
      "text/plain": [
       "[9409, 4624, 9604, 6400, 5625, 3249, 2500, 1936, 49, 576]"
      ]
     },
     "execution_count": 4,
     "metadata": {},
     "output_type": "execute_result"
    }
   ],
   "source": [
    "# Преобразуем сразу в лист, чтобы увидеть результат\n",
    "new_random_list = list(map(lambda x: x ** 2, random_list))\n",
    "new_random_list"
   ]
  },
  {
   "cell_type": "markdown",
   "id": "f4be8903-d8ef-4dd9-ac54-dc984f13d7f1",
   "metadata": {},
   "source": [
    "Функция lambda x: x ** 2, аналогична функции, приведенной ниже. Функция map берет элемент из random_list и подставляет в лямбда-функцию или любую другую переданную функцию."
   ]
  },
  {
   "cell_type": "code",
   "execution_count": 5,
   "id": "efee605a-21f5-4520-890b-fa4b79ab975c",
   "metadata": {},
   "outputs": [],
   "source": [
    "def sqr(X):\n",
    "    return X ** 2"
   ]
  },
  {
   "cell_type": "code",
   "execution_count": 6,
   "id": "11eed7fc-8e80-4d0c-bf9a-94ca51f0c728",
   "metadata": {},
   "outputs": [
    {
     "data": {
      "text/plain": [
       "[9409, 4624, 9604, 6400, 5625, 3249, 2500, 1936, 49, 576]"
      ]
     },
     "execution_count": 6,
     "metadata": {},
     "output_type": "execute_result"
    }
   ],
   "source": [
    "new_random_list = list(map(sqr, random_list))\n",
    "new_random_list"
   ]
  },
  {
   "cell_type": "markdown",
   "id": "f06f1fd2-eb16-4be0-939d-85b46edfd324",
   "metadata": {},
   "source": [
    "## Аггрегация результатов\n",
    "\n",
    "В модуле functools есть функция reduce, которая получает одно значение с помощью некоторой функции, которая осуществляет накопленный подсчет от некоторого списка. В примере ниже приведен расчет суммы элементов списка."
   ]
  },
  {
   "cell_type": "code",
   "execution_count": 7,
   "id": "16938771-f951-4150-88aa-c33e5fe8c088",
   "metadata": {},
   "outputs": [
    {
     "data": {
      "text/plain": [
       "43972"
      ]
     },
     "execution_count": 7,
     "metadata": {},
     "output_type": "execute_result"
    }
   ],
   "source": [
    "from functools import reduce\n",
    "new_random_dict_sum = reduce(lambda x, y: x + y, new_random_list)\n",
    "new_random_dict_sum"
   ]
  },
  {
   "cell_type": "code",
   "execution_count": 8,
   "id": "e8fabeb2-b796-4d3d-9f91-b7fe9f1175e2",
   "metadata": {},
   "outputs": [
    {
     "data": {
      "text/plain": [
       "43972"
      ]
     },
     "execution_count": 8,
     "metadata": {},
     "output_type": "execute_result"
    }
   ],
   "source": [
    "sum(new_random_list)"
   ]
  },
  {
   "cell_type": "markdown",
   "id": "cdf9a691-e762-4b3f-b5e3-96503b335abf",
   "metadata": {},
   "source": [
    "Дело в том, что функция sum определена только для числовых последовательностей, а операция сложения может быть определена для любого класса. Например, таблиц, с которыми такой подход может пригодится. Лямбда-функция из ячейки выше аналогична функции из  ячейки ниже. Для функции, передаваемых в функцию reduce, первый параметр хранит накопленное значение, а второй - текущий элемент."
   ]
  },
  {
   "cell_type": "code",
   "execution_count": null,
   "id": "8a869b58-7380-46b3-9110-46eb1b3d0118",
   "metadata": {},
   "outputs": [],
   "source": [
    "def S(x,y):\n",
    "    return x + y"
   ]
  },
  {
   "cell_type": "markdown",
   "id": "e1fd3abf-5642-417d-909b-9c6ca6274bfb",
   "metadata": {},
   "source": [
    "## Тренировка ООП и работы с файлами.\n",
    "\n",
    "1. Скачайте несколько последовательностей любого белка в формате fasta с базы данных uniprot.\n",
    "2. Напишем код, который:\n",
    "    - Подсчитывает длину каждой строки в этом файле\n",
    "    - Подсчитывает количество последовательностей в этом файле\n",
    "    - Подсчитывает длину последовательностей в этом файле\n",
    "    \n",
    "3. Создадим класс FASTAFile, который сможет совершать эти действия с файлам\n",
    "4. (Самостоятельно) Превратим написанный наш класс в программу, которую можно запускать на любом fasta файле\n",
    "    \n",
    "### Длина каждой строки"
   ]
  },
  {
   "cell_type": "code",
   "execution_count": 9,
   "id": "8b4eb150-a35a-4808-9b16-aa92f1898ca1",
   "metadata": {},
   "outputs": [
    {
     "name": "stdout",
     "output_type": "stream",
     "text": [
      "[70, 61, 51, 66, 61, 49, 68, 61, 46, 78, 61, 51, 75, 61, 49, 75, 61, 51, 74, 61, 51, 81, 61, 61, 61, 61, 61, 61, 61, 61, 61, 61, 61, 61, 61, 61, 61, 61, 61, 61, 61, 61, 61, 61, 61, 3, 87, 61, 61, 61, 61, 61, 61, 61, 61, 61, 61, 61, 61, 61, 61, 61, 61, 60, 72, 61, 50, 71, 61, 48, 85, 61, 51, 93, 61, 61, 16]\n"
     ]
    }
   ],
   "source": [
    "with open(\"/home/asmirnov/prepod/uniprotkb_accession_P01308_OR_accession_2025_01_31.fasta\") as file:\n",
    "    num_symbols = list(map(len, file.readlines()))\n",
    "    print(num_symbols)"
   ]
  },
  {
   "cell_type": "markdown",
   "id": "81ce8dc2-e3fb-48eb-81e3-3c6f333d64e6",
   "metadata": {},
   "source": [
    "### Количество последовательностей в файле"
   ]
  },
  {
   "cell_type": "code",
   "execution_count": 10,
   "id": "a3dabda5-4ec4-417d-b168-1726fc5e3f10",
   "metadata": {},
   "outputs": [
    {
     "name": "stdout",
     "output_type": "stream",
     "text": [
      "13\n"
     ]
    }
   ],
   "source": [
    "with open(\"/home/asmirnov/prepod/uniprotkb_accession_P01308_OR_accession_2025_01_31.fasta\") as file:\n",
    "    num_record = sum(list(map(lambda x: x.startswith(\">\"), file.readlines())))\n",
    "    print(num_record)"
   ]
  },
  {
   "cell_type": "markdown",
   "id": "c713434e-480c-4384-8141-559f1cefd17f",
   "metadata": {},
   "source": [
    "### Длины последовательностей\n",
    "\n",
    "**NB!** Одна последовательность располагается на нескольких строках"
   ]
  },
  {
   "cell_type": "code",
   "execution_count": 12,
   "id": "e0f5dfce-cc7b-4e9c-8bde-b8e0c00862c9",
   "metadata": {},
   "outputs": [
    {
     "name": "stdout",
     "output_type": "stream",
     "text": [
      "[110, 108, 105, 110, 108, 110, 110, 1382, 1019, 109, 107, 110, 135]\n"
     ]
    }
   ],
   "source": [
    "with open(\"/home/asmirnov/prepod/uniprotkb_accession_P01308_OR_accession_2025_01_31.fasta\") as file:\n",
    "    fasta_lines = file.readlines()\n",
    "    len_seqs = {}\n",
    "    for line in fasta_lines:\n",
    "        if line.startswith(\">\"):\n",
    "            current_key = line\n",
    "            len_seqs[current_key] = 0\n",
    "        else:\n",
    "            len_seqs[current_key] += len(line.strip())\n",
    "    print(list(len_seqs.values()))"
   ]
  },
  {
   "cell_type": "markdown",
   "id": "86da467c-5579-4ab0-8d42-3c3b2d71d1ed",
   "metadata": {},
   "source": [
    "### Написание класса FASTAFile"
   ]
  },
  {
   "cell_type": "code",
   "execution_count": 28,
   "id": "9cfcb90c-1a85-4e14-9b32-3f19e0471e3c",
   "metadata": {},
   "outputs": [
    {
     "data": {
      "text/plain": [
       "[0, 110, 108, 105, 110, 108, 110, 110, 1382, 1019, 109, 107, 110, 135]"
      ]
     },
     "execution_count": 28,
     "metadata": {},
     "output_type": "execute_result"
    }
   ],
   "source": [
    "class FASTAFile:\n",
    "    \n",
    "    def __init__(self, filepath):\n",
    "        self.filepath = filepath\n",
    "        \n",
    "    def get_num_symbols_per_line(self):\n",
    "        with open(self.filepath) as file:\n",
    "            return list(map(len, file.readlines()))\n",
    "        \n",
    "    def get_num_records(self):\n",
    "        with open(self.filepath) as file:\n",
    "            return sum(list(map(lambda x: x.startswith(\">\"), file.readlines())))\n",
    "        \n",
    "    def get_sequences_length(self):\n",
    "        with open(self.filepath) as file:\n",
    "            fasta_lines = file.readlines()\n",
    "            len_seqs = {}\n",
    "            for line in fasta_lines:\n",
    "                if line.startswith(\">\"):\n",
    "                    current_key = line\n",
    "                    len_seqs[current_key] = 0\n",
    "                else:\n",
    "                    len_seqs[current_key] += len(line.strip())\n",
    "        return list(len_seqs.values())"
   ]
  },
  {
   "cell_type": "markdown",
   "id": "a3c952ea-18e1-4efb-81ae-d5be1be3f7c2",
   "metadata": {},
   "source": [
    "Для выполнения самостоятельного задания вам необходимо вспомнить структуру python скрипта. Для создания интерфейса командной строки вам потребуется модуль sys и переменная argv из этого модуля. Преполагается, что программа будет получать два аргумента на вход: путь к фалйу и действие, которое необходимо совершить. Дополнительно настройте проверку входных аргументов. Досрочно завершить выполнение программы можно с помощью функции exit(exitcode) из модуля sys."
   ]
  },
  {
   "cell_type": "code",
   "execution_count": null,
   "id": "91cb39a0-9756-4cd5-9033-3e651925abfa",
   "metadata": {},
   "outputs": [],
   "source": []
  }
 ],
 "metadata": {
  "kernelspec": {
   "display_name": "Python [conda env:.conda-descriptors]",
   "language": "python",
   "name": "conda-env-.conda-descriptors-py"
  },
  "language_info": {
   "codemirror_mode": {
    "name": "ipython",
    "version": 3
   },
   "file_extension": ".py",
   "mimetype": "text/x-python",
   "name": "python",
   "nbconvert_exporter": "python",
   "pygments_lexer": "ipython3",
   "version": "3.11.5"
  }
 },
 "nbformat": 4,
 "nbformat_minor": 5
}
