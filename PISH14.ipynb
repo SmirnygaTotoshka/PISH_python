{
 "cells": [
  {
   "cell_type": "code",
   "execution_count": 3,
   "id": "c7589513-358e-47f9-9a2d-53bb99f50c1e",
   "metadata": {},
   "outputs": [
    {
     "data": {
      "image/png": "[encoded data removed]",
      "text/plain": [
       "<Figure size 640x480 with 1 Axes>"
      ]
     },
     "metadata": {},
     "output_type": "display_data"
    }
   ],
   "source": [
    "import matplotlib.pyplot as plt\n",
    "import numpy as np\n",
    "\n",
    "x = np.linspace(0, 2 * np.pi, 100)\n",
    "y = np.sin(x)\n",
    "\n",
    "fig, ax = plt.subplots()\n",
    "ax.plot(x, y, color = \"red\", marker = \"o\")\n",
    "plt.show()"
   ]
  },
  {
   "cell_type": "code",
   "execution_count": 5,
   "id": "26b0d880-13c8-4d17-99dc-5161236a0410",
   "metadata": {},
   "outputs": [],
   "source": [
    "import pandas as pd"
   ]
  },
  {
   "cell_type": "code",
   "execution_count": 9,
   "id": "f0ef47a1-4fe8-416b-b050-5b5beb78e38a",
   "metadata": {},
   "outputs": [
    {
     "data": {
      "text/html": [
       "<div>\n",
       "<style scoped>\n",
       "    .dataframe tbody tr th:only-of-type {\n",
       "        vertical-align: middle;\n",
       "    }\n",
       "\n",
       "    .dataframe tbody tr th {\n",
       "        vertical-align: top;\n",
       "    }\n",
       "\n",
       "    .dataframe thead th {\n",
       "        text-align: right;\n",
       "    }\n",
       "</style>\n",
       "<table border=\"1\" class=\"dataframe\">\n",
       "  <thead>\n",
       "    <tr style=\"text-align: right;\">\n",
       "      <th></th>\n",
       "      <th>PassengerId</th>\n",
       "      <th>Survived</th>\n",
       "      <th>Pclass</th>\n",
       "      <th>Name</th>\n",
       "      <th>Sex</th>\n",
       "      <th>Age</th>\n",
       "      <th>SibSp</th>\n",
       "      <th>Parch</th>\n",
       "      <th>Ticket</th>\n",
       "      <th>Fare</th>\n",
       "      <th>Cabin</th>\n",
       "      <th>Embarked</th>\n",
       "    </tr>\n",
       "  </thead>\n",
       "  <tbody>\n",
       "    <tr>\n",
       "      <th>0</th>\n",
       "      <td>1</td>\n",
       "      <td>0</td>\n",
       "      <td>3</td>\n",
       "      <td>Braund, Mr. Owen Harris</td>\n",
       "      <td>male</td>\n",
       "      <td>22.0</td>\n",
       "      <td>1</td>\n",
       "      <td>0</td>\n",
       "      <td>A/5 21171</td>\n",
       "      <td>7.2500</td>\n",
       "      <td>NaN</td>\n",
       "      <td>S</td>\n",
       "    </tr>\n",
       "    <tr>\n",
       "      <th>1</th>\n",
       "      <td>2</td>\n",
       "      <td>1</td>\n",
       "      <td>1</td>\n",
       "      <td>Cumings, Mrs. John Bradley (Florence Briggs Th...</td>\n",
       "      <td>female</td>\n",
       "      <td>38.0</td>\n",
       "      <td>1</td>\n",
       "      <td>0</td>\n",
       "      <td>PC 17599</td>\n",
       "      <td>71.2833</td>\n",
       "      <td>C85</td>\n",
       "      <td>C</td>\n",
       "    </tr>\n",
       "    <tr>\n",
       "      <th>2</th>\n",
       "      <td>3</td>\n",
       "      <td>1</td>\n",
       "      <td>3</td>\n",
       "      <td>Heikkinen, Miss. Laina</td>\n",
       "      <td>female</td>\n",
       "      <td>26.0</td>\n",
       "      <td>0</td>\n",
       "      <td>0</td>\n",
       "      <td>STON/O2. 3101282</td>\n",
       "      <td>7.9250</td>\n",
       "      <td>NaN</td>\n",
       "      <td>S</td>\n",
       "    </tr>\n",
       "    <tr>\n",
       "      <th>3</th>\n",
       "      <td>4</td>\n",
       "      <td>1</td>\n",
       "      <td>1</td>\n",
       "      <td>Futrelle, Mrs. Jacques Heath (Lily May Peel)</td>\n",
       "      <td>female</td>\n",
       "      <td>35.0</td>\n",
       "      <td>1</td>\n",
       "      <td>0</td>\n",
       "      <td>113803</td>\n",
       "      <td>53.1000</td>\n",
       "      <td>C123</td>\n",
       "      <td>S</td>\n",
       "    </tr>\n",
       "    <tr>\n",
       "      <th>4</th>\n",
       "      <td>5</td>\n",
       "      <td>0</td>\n",
       "      <td>3</td>\n",
       "      <td>Allen, Mr. William Henry</td>\n",
       "      <td>male</td>\n",
       "      <td>35.0</td>\n",
       "      <td>0</td>\n",
       "      <td>0</td>\n",
       "      <td>373450</td>\n",
       "      <td>8.0500</td>\n",
       "      <td>NaN</td>\n",
       "      <td>S</td>\n",
       "    </tr>\n",
       "  </tbody>\n",
       "</table>\n",
       "</div>"
      ],
      "text/plain": [
       "   PassengerId  Survived  Pclass  \\\n",
       "0            1         0       3   \n",
       "1            2         1       1   \n",
       "2            3         1       3   \n",
       "3            4         1       1   \n",
       "4            5         0       3   \n",
       "\n",
       "                                                Name     Sex   Age  SibSp  \\\n",
       "0                            Braund, Mr. Owen Harris    male  22.0      1   \n",
       "1  Cumings, Mrs. John Bradley (Florence Briggs Th...  female  38.0      1   \n",
       "2                             Heikkinen, Miss. Laina  female  26.0      0   \n",
       "3       Futrelle, Mrs. Jacques Heath (Lily May Peel)  female  35.0      1   \n",
       "4                           Allen, Mr. William Henry    male  35.0      0   \n",
       "\n",
       "   Parch            Ticket     Fare Cabin Embarked  \n",
       "0      0         A/5 21171   7.2500   NaN        S  \n",
       "1      0          PC 17599  71.2833   C85        C  \n",
       "2      0  STON/O2. 3101282   7.9250   NaN        S  \n",
       "3      0            113803  53.1000  C123        S  \n",
       "4      0            373450   8.0500   NaN        S  "
      ]
     },
     "execution_count": 9,
     "metadata": {},
     "output_type": "execute_result"
    }
   ],
   "source": [
    "data = pd.read_csv(\"titanic.csv\")\n",
    "data.head()"
   ]
  },
  {
   "cell_type": "code",
   "execution_count": 10,
   "id": "d58e1702-abbe-439e-82b5-772a5f2668a8",
   "metadata": {},
   "outputs": [
    {
     "data": {
      "text/plain": [
       "Survived\n",
       "0    549\n",
       "1    342\n",
       "Name: count, dtype: int64"
      ]
     },
     "execution_count": 10,
     "metadata": {},
     "output_type": "execute_result"
    }
   ],
   "source": [
    "data[\"Survived\"].value_counts(dropna = False)"
   ]
  },
  {
   "cell_type": "code",
   "execution_count": 22,
   "id": "bf976417-a804-4d05-ab1b-b2a28a9f7f23",
   "metadata": {},
   "outputs": [
    {
     "data": {
      "image/png": "[encoded data removed]",
      "text/plain": [
       "<Figure size 640x480 with 1 Axes>"
      ]
     },
     "metadata": {},
     "output_type": "display_data"
    }
   ],
   "source": [
    "plt.style.use('default')\n",
    "\n",
    "counts = data[\"Survived\"].value_counts(dropna = False)\n",
    "\n",
    "# make data:\n",
    "x = counts.index\n",
    "y = counts\n",
    "\n",
    "# plot\n",
    "fig, ax = plt.subplots()\n",
    "\n",
    "ax.bar(x, y, width=0.5, color=[\"red\",\"green\"], linewidth=0.7, tick_label = [\"Погибший\",\"Выживший\"])\n",
    "ax.set_title(\"Статус пассажира\")\n",
    "ax.set(xticks=[0,1])\n",
    "       #ylim=(0, 8), yticks=np.arange(1, 8))\n",
    "\n",
    "plt.show()"
   ]
  },
  {
   "cell_type": "code",
   "execution_count": 23,
   "id": "4b5e427b-0f87-4420-a563-4ed2804467d5",
   "metadata": {},
   "outputs": [
    {
     "data": {
      "text/html": [
       "<div>\n",
       "<style scoped>\n",
       "    .dataframe tbody tr th:only-of-type {\n",
       "        vertical-align: middle;\n",
       "    }\n",
       "\n",
       "    .dataframe tbody tr th {\n",
       "        vertical-align: top;\n",
       "    }\n",
       "\n",
       "    .dataframe thead th {\n",
       "        text-align: right;\n",
       "    }\n",
       "</style>\n",
       "<table border=\"1\" class=\"dataframe\">\n",
       "  <thead>\n",
       "    <tr style=\"text-align: right;\">\n",
       "      <th></th>\n",
       "      <th>ID</th>\n",
       "      <th>Holes</th>\n",
       "      <th>Outcome</th>\n",
       "      <th>Age</th>\n",
       "      <th>Sex</th>\n",
       "      <th>Try_1, pg/ml</th>\n",
       "      <th>Try_2, pg/ml</th>\n",
       "      <th>ELISA, pg/ml</th>\n",
       "      <th>xMAP, pg/ml</th>\n",
       "    </tr>\n",
       "  </thead>\n",
       "  <tbody>\n",
       "    <tr>\n",
       "      <th>0</th>\n",
       "      <td>7</td>\n",
       "      <td>G2,H2</td>\n",
       "      <td>смерть</td>\n",
       "      <td>59</td>\n",
       "      <td>1</td>\n",
       "      <td>30.68</td>\n",
       "      <td>31.13</td>\n",
       "      <td>30.91</td>\n",
       "      <td>60.042296</td>\n",
       "    </tr>\n",
       "    <tr>\n",
       "      <th>1</th>\n",
       "      <td>55</td>\n",
       "      <td>G7,H7</td>\n",
       "      <td>тяжелый</td>\n",
       "      <td>62</td>\n",
       "      <td>1</td>\n",
       "      <td>26.29</td>\n",
       "      <td>24.84</td>\n",
       "      <td>25.57</td>\n",
       "      <td>20.481909</td>\n",
       "    </tr>\n",
       "    <tr>\n",
       "      <th>2</th>\n",
       "      <td>70</td>\n",
       "      <td>H1,B3</td>\n",
       "      <td>смерть</td>\n",
       "      <td>50</td>\n",
       "      <td>1</td>\n",
       "      <td>51.69</td>\n",
       "      <td>54.35</td>\n",
       "      <td>53.02</td>\n",
       "      <td>48.805099</td>\n",
       "    </tr>\n",
       "    <tr>\n",
       "      <th>3</th>\n",
       "      <td>110</td>\n",
       "      <td>E2,F2</td>\n",
       "      <td>смерть</td>\n",
       "      <td>57</td>\n",
       "      <td>1</td>\n",
       "      <td>17.86</td>\n",
       "      <td>21.03</td>\n",
       "      <td>19.45</td>\n",
       "      <td>7.412301</td>\n",
       "    </tr>\n",
       "    <tr>\n",
       "      <th>4</th>\n",
       "      <td>129</td>\n",
       "      <td>C3,D3</td>\n",
       "      <td>смерть</td>\n",
       "      <td>62</td>\n",
       "      <td>1</td>\n",
       "      <td>133.30</td>\n",
       "      <td>155.10</td>\n",
       "      <td>144.20</td>\n",
       "      <td>144.136971</td>\n",
       "    </tr>\n",
       "  </tbody>\n",
       "</table>\n",
       "</div>"
      ],
      "text/plain": [
       "    ID  Holes  Outcome  Age  Sex  Try_1, pg/ml  Try_2, pg/ml  ELISA, pg/ml  \\\n",
       "0    7  G2,H2   смерть   59    1         30.68         31.13         30.91   \n",
       "1   55  G7,H7  тяжелый   62    1         26.29         24.84         25.57   \n",
       "2   70  H1,B3   смерть   50    1         51.69         54.35         53.02   \n",
       "3  110  E2,F2   смерть   57    1         17.86         21.03         19.45   \n",
       "4  129  C3,D3   смерть   62    1        133.30        155.10        144.20   \n",
       "\n",
       "   xMAP, pg/ml  \n",
       "0    60.042296  \n",
       "1    20.481909  \n",
       "2    48.805099  \n",
       "3     7.412301  \n",
       "4   144.136971  "
      ]
     },
     "execution_count": 23,
     "metadata": {},
     "output_type": "execute_result"
    }
   ],
   "source": [
    "elisa_data = pd.read_excel(r\"results_xmap_and_vector.xlsx\")\n",
    "elisa_data.head()"
   ]
  },
  {
   "cell_type": "code",
   "execution_count": null,
   "id": "1e05d55a-6ba5-4f93-8055-d89ea7cf0b81",
   "metadata": {},
   "outputs": [],
   "source": [
    "conda install -c conda-forge openpyxl"
   ]
  },
  {
   "cell_type": "code",
   "execution_count": 26,
   "id": "c542e6e8-0572-4b61-8e8e-98eba48c6e16",
   "metadata": {},
   "outputs": [
    {
     "data": {
      "text/plain": [
       "Index(['ID', 'Holes', 'Outcome', 'Age', 'Sex', 'Try_1, pg/ml', 'Try_2, pg/ml',\n",
       "       'ELISA, pg/ml', 'xMAP, pg/ml'],\n",
       "      dtype='object')"
      ]
     },
     "execution_count": 26,
     "metadata": {},
     "output_type": "execute_result"
    }
   ],
   "source": [
    "elisa_data.columns"
   ]
  },
  {
   "cell_type": "code",
   "execution_count": 31,
   "id": "6fda4bd1-b3bb-4e5b-91cf-c1f596eb9e95",
   "metadata": {},
   "outputs": [],
   "source": [
    "men = elisa_data.loc[elisa_data[\"Sex\"] == 1, :]\n",
    "women = elisa_data.loc[elisa_data[\"Sex\"] == 2, :]"
   ]
  },
  {
   "cell_type": "code",
   "execution_count": 33,
   "id": "6cf48a6a-28f1-450d-b944-6438ecf76c26",
   "metadata": {},
   "outputs": [
    {
     "data": {
      "text/plain": [
       "Outcome\n",
       "смерть      17\n",
       "средний     14\n",
       "здоровый     8\n",
       "тяжелый      6\n",
       "Name: count, dtype: int64"
      ]
     },
     "execution_count": 33,
     "metadata": {},
     "output_type": "execute_result"
    }
   ],
   "source": [
    "elisa_data[\"Outcome\"].value_counts()"
   ]
  },
  {
   "cell_type": "code",
   "execution_count": 34,
   "id": "91c658d9-e2ba-4947-b5ec-a185d499d58f",
   "metadata": {},
   "outputs": [],
   "source": [
    "death = elisa_data.loc[elisa_data[\"Outcome\"] == \"смерть\", :]\n",
    "severe = elisa_data.loc[elisa_data[\"Outcome\"] == \"тяжелый\", :]\n",
    "moderate = elisa_data.loc[elisa_data[\"Outcome\"] == \"средний\", :]\n",
    "control = elisa_data.loc[elisa_data[\"Outcome\"] == \"здоровый\", :]"
   ]
  },
  {
   "cell_type": "code",
   "execution_count": 37,
   "id": "ce4aa3e9-1d51-4d69-82b2-21690ac20a88",
   "metadata": {},
   "outputs": [
    {
     "data": {
      "image/png": "[encoded data removed]",
      "text/plain": [
       "<Figure size 800x600 with 1 Axes>"
      ]
     },
     "metadata": {},
     "output_type": "display_data"
    }
   ],
   "source": [
    "fig, ax = plt.subplots(figsize = (8,6))\n",
    "ax.scatter(x = \"ELISA, pg/ml\", y = \"xMAP, pg/ml\", data = death)\n",
    "ax.scatter(x = \"ELISA, pg/ml\", y = \"xMAP, pg/ml\", data = severe)\n",
    "ax.scatter(x = \"ELISA, pg/ml\", y = \"xMAP, pg/ml\", data = moderate)\n",
    "ax.scatter(x = \"ELISA, pg/ml\", y = \"xMAP, pg/ml\", data = control)\n",
    "ax.set_xlabel(\"ELISA, pg/ml\")\n",
    "ax.set_ylabel(\"xMAP, pg/ml\")\n",
    "ax.set_title(\"IL-6 in human plasma\")\n",
    "ax.legend(labels = [\"смерть\",\"тяжелый\",\"средний\",\"здоровый\"])\n",
    "fig.tight_layout()\n",
    "fig.savefig(\"example.png\")\n",
    "plt.show()"
   ]
  },
  {
   "cell_type": "code",
   "execution_count": null,
   "id": "f6d719d6-6513-4070-a5ec-200dd359cb88",
   "metadata": {},
   "outputs": [],
   "source": []
  }
 ],
 "metadata": {
  "kernelspec": {
   "display_name": "Python [conda env:.conda-disser]",
   "language": "python",
   "name": "conda-env-.conda-disser-py"
  },
  "language_info": {
   "codemirror_mode": {
    "name": "ipython",
    "version": 3
   },
   "file_extension": ".py",
   "mimetype": "text/x-python",
   "name": "python",
   "nbconvert_exporter": "python",
   "pygments_lexer": "ipython3",
   "version": "3.10.15"
  }
 },
 "nbformat": 4,
 "nbformat_minor": 5
}
