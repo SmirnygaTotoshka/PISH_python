{
 "cells": [
  {
   "cell_type": "markdown",
   "id": "f2493c26-e451-4a38-88f5-11cbd2fcf486",
   "metadata": {},
   "source": [
    "# Случайные числа. Включения. Обработка исключений.\n",
    "\n",
    "24.05.2025. Автор Смирнов Антон Сергеевич, ассистент кафедры биоинформатики МБФ РНИМУ им. Н.И. Пирогова\n",
    "\n",
    "Подготовлено в рамках курса по профессиональной переподготовки по биоинформатике передовой инженерной школы РНИМУ.\n",
    "\n",
    "Существуют алгоритмы для генерации псевдослучайных чисел. В языке Python они расположены в библиотеке random. Чтобы воспользоваться её возможностями, её необходимо импортировать.\n",
    "\n",
    "## Случайные числа"
   ]
  },
  {
   "cell_type": "code",
   "execution_count": null,
   "id": "579b29ee-b6c7-45ae-b07a-9a0b42dd3e94",
   "metadata": {},
   "outputs": [],
   "source": [
    "# Документация - https://docs.python.org/3/library/random.html\n",
    "import random"
   ]
  },
  {
   "cell_type": "markdown",
   "id": "edf9ba1b-18c8-4ed4-b0e1-cfa5f11752b7",
   "metadata": {},
   "source": [
    "Создадим список из 10 случайных чисел. "
   ]
  },
  {
   "cell_type": "code",
   "execution_count": 7,
   "id": "76887f2e-f86d-474d-ad4f-6a627f35670f",
   "metadata": {},
   "outputs": [
    {
     "name": "stdout",
     "output_type": "stream",
     "text": [
      "[20, 70, 50, 53, 58, 95, 19, 26, 70, 89]\n"
     ]
    }
   ],
   "source": [
    "rand_list = []\n",
    "# Будем добавлять в список по одному числу\n",
    "# Функция range - генератор. Генерирует числовую последовательность с заданным шагом\n",
    "# range(10) -> 0,1,2,3,4,5,6,7,8,9\n",
    "# Общий вид range(start, end, step)\n",
    "# Нижнее подчеркивание в качестве имени счетчика используется, когда\n",
    "# счетчик в теле цикла не фигурирует\n",
    "for _ in range(10):\n",
    "    # Функция randint возвращает случайное целое число в диапазоне от a до b\n",
    "    # В данном примере a = 0, b = 100\n",
    "    rand_list.append(random.randint(0,100))\n",
    "print(rand_list)"
   ]
  },
  {
   "cell_type": "markdown",
   "id": "a6d0ded0-9e66-4d10-9ed4-5bc6dff76e4d",
   "metadata": {},
   "source": [
    "Слуайности - не случайны. Так и в программировании: компьютер генерирует случчаное число по определенному алгоритму. Случайность достигается за счет задания начальной точки (семени, seed). По умолчанию, она равна текущей дате. Текущая дата измеряется вколичестве секунд с 01.01.1970. Иногда бывает полезно задать эту случайную точку для воспроизводимости результатов."
   ]
  },
  {
   "cell_type": "code",
   "execution_count": 10,
   "id": "9397eb79-32e1-4f28-b4e0-7b495104219f",
   "metadata": {},
   "outputs": [
    {
     "name": "stdout",
     "output_type": "stream",
     "text": [
      "[59, 78, 47, 34, 17, 23, 86, 0, 43, 64]\n"
     ]
    }
   ],
   "source": [
    "rand_list = []\n",
    "random.seed(9)\n",
    "for _ in range(10):\n",
    "    rand_list.append(random.randint(0,100))\n",
    "print(rand_list)"
   ]
  },
  {
   "cell_type": "markdown",
   "id": "95f05051-2ac0-46a8-b259-eddaf956eeea",
   "metadata": {},
   "source": [
    "Способ инициализации списка через цикл не совсем оптимальный. Он генерирует больше байт-кода, который дольше выполняется, хотя это заметно только на больших объемах данных. Более оптимальный путь - через  включения (comprehensions)."
   ]
  },
  {
   "cell_type": "code",
   "execution_count": 11,
   "id": "e189eeb7-5ea2-443c-b4fa-2ce076d2f949",
   "metadata": {},
   "outputs": [
    {
     "data": {
      "text/plain": [
       "[59, 78, 47, 34, 17, 23, 86, 0, 43, 64]"
      ]
     },
     "execution_count": 11,
     "metadata": {},
     "output_type": "execute_result"
    }
   ],
   "source": [
    "# Код эквивалентный ячейке выше\n",
    "random.seed(9)\n",
    "rand_list = [random.randint(0,100) for _ in range(10)]\n",
    "rand_list"
   ]
  },
  {
   "cell_type": "markdown",
   "id": "f76e324a-3c85-4af2-9ace-f88749a2456e",
   "metadata": {},
   "source": [
    "our_list = [f(i) for i in some_collection] - общий вид включения. К обычному включения можно добавлять условия."
   ]
  },
  {
   "cell_type": "code",
   "execution_count": 13,
   "id": "e9b85958-ec2e-415b-b855-cba0b0119a91",
   "metadata": {},
   "outputs": [
    {
     "data": {
      "text/plain": [
       "[59, 78, 47, 34, 17, -77, -14, -100, -57, -36]"
      ]
     },
     "execution_count": 13,
     "metadata": {},
     "output_type": "execute_result"
    }
   ],
   "source": [
    "random.seed(9)\n",
    "# Если порядковый номер меньше 5, то добавится случайное число из диапазона [0;100]\n",
    "# Иначе из диапазона [-100;0]\n",
    "rand_list = [random.randint(0,100) if i < 5 else random.randint(-100,0) for i in range(10)]\n",
    "rand_list"
   ]
  },
  {
   "cell_type": "code",
   "execution_count": 14,
   "id": "d14ea74a-f800-4d21-a4bb-aac5d8d45449",
   "metadata": {},
   "outputs": [
    {
     "data": {
      "text/plain": [
       "'abcdef'"
      ]
     },
     "execution_count": 14,
     "metadata": {},
     "output_type": "execute_result"
    }
   ],
   "source": [
    "keys_str = \"abcdef\"\n",
    "keys_str"
   ]
  },
  {
   "cell_type": "code",
   "execution_count": 16,
   "id": "c57bd996-5487-4213-aa9d-2814e13f3efc",
   "metadata": {},
   "outputs": [
    {
     "data": {
      "text/plain": [
       "['a', 'b', 'c', 'd', 'e', 'f']"
      ]
     },
     "execution_count": 16,
     "metadata": {},
     "output_type": "execute_result"
    }
   ],
   "source": [
    "# такое преобразование разбивает строку на список символов\n",
    "keys = list(keys_str)\n",
    "keys"
   ]
  },
  {
   "cell_type": "code",
   "execution_count": 17,
   "id": "b58003cf-f4f9-4e65-b049-d7bab02564a6",
   "metadata": {},
   "outputs": [
    {
     "data": {
      "text/plain": [
       "{'a': 59, 'b': 77, 'c': 10, 'd': 42, 'e': 70, 'f': 78}"
      ]
     },
     "execution_count": 17,
     "metadata": {},
     "output_type": "execute_result"
    }
   ],
   "source": [
    "# Включение для словаря {key: f(k) for k in keys}\n",
    "rand_dict = {k: random.randint(0,100) for k in keys}\n",
    "rand_dict"
   ]
  },
  {
   "cell_type": "markdown",
   "id": "6d873ecd-5711-45e0-9302-d621ba6b77b2",
   "metadata": {},
   "source": [
    "Как разбить строку на слова. Строку можно разбить по символу-разделителю с помощью функции split. Разбивать можно не только по символу, но и по *регулярному выражению* (regular expression). "
   ]
  },
  {
   "cell_type": "code",
   "execution_count": 18,
   "id": "e2198c21-9816-4ee7-83c3-1f89d21323b6",
   "metadata": {},
   "outputs": [
    {
     "data": {
      "text/plain": [
       "['мама', 'мыла', 'раму']"
      ]
     },
     "execution_count": 18,
     "metadata": {},
     "output_type": "execute_result"
    }
   ],
   "source": [
    "example = \"мама мыла раму\"\n",
    "words = example.split(\" \")\n",
    "words"
   ]
  },
  {
   "cell_type": "code",
   "execution_count": 19,
   "id": "09535f79-8a65-4734-b8b0-d8ded09b49f1",
   "metadata": {},
   "outputs": [
    {
     "data": {
      "text/plain": [
       "[59, 78, 47, 34, 17, -77, -14, -100, -57, -36]"
      ]
     },
     "execution_count": 19,
     "metadata": {},
     "output_type": "execute_result"
    }
   ],
   "source": [
    "random.seed(9)\n",
    "rand_list = [random.randint(0,100) if i < 5 else random.randint(-100,0) for i in range(10)]\n",
    "rand_list"
   ]
  },
  {
   "cell_type": "markdown",
   "id": "a746231f-5fe7-4df1-98dd-9828812a4a58",
   "metadata": {},
   "source": [
    "**Задание.** Напишите функцию для поиска позиции элемента в списке. Не используйте готовую функцию index. Если элемент не найден,возвращайте -1."
   ]
  },
  {
   "cell_type": "code",
   "execution_count": 20,
   "id": "fc717a59-77be-45a6-96b4-c5d9bf85dad7",
   "metadata": {},
   "outputs": [
    {
     "data": {
      "text/plain": [
       "4"
      ]
     },
     "execution_count": 20,
     "metadata": {},
     "output_type": "execute_result"
    }
   ],
   "source": [
    "rand_list.index(17)"
   ]
  },
  {
   "cell_type": "code",
   "execution_count": 21,
   "id": "b6fafaa8-1e0f-4cb6-b6a2-6e7e09dbfb2e",
   "metadata": {},
   "outputs": [
    {
     "ename": "ValueError",
     "evalue": "0 is not in list",
     "output_type": "error",
     "traceback": [
      "\u001b[0;31m---------------------------------------------------------------------------\u001b[0m",
      "\u001b[0;31mValueError\u001b[0m                                Traceback (most recent call last)",
      "Cell \u001b[0;32mIn[21], line 1\u001b[0m\n\u001b[0;32m----> 1\u001b[0m rand_list\u001b[38;5;241m.\u001b[39mindex(\u001b[38;5;241m0\u001b[39m)\n",
      "\u001b[0;31mValueError\u001b[0m: 0 is not in list"
     ]
    }
   ],
   "source": [
    "rand_list.index(0)"
   ]
  },
  {
   "cell_type": "markdown",
   "id": "f136452c-6b56-4200-b254-0cdca0a1bca8",
   "metadata": {},
   "source": [
    "Ответ на задачу"
   ]
  },
  {
   "cell_type": "code",
   "execution_count": 28,
   "id": "0aa4d7a1-3fa9-4c48-b6c5-667ab0f20424",
   "metadata": {},
   "outputs": [
    {
     "name": "stdout",
     "output_type": "stream",
     "text": [
      "[59, 78, 47, 34, 17, 23, 86, 0, 43, 64]\n",
      "474\n",
      "-1\n"
     ]
    }
   ],
   "source": [
    "random.seed(9)\n",
    "rand_list = [random.randint(0,100) for i in range(10)]\n",
    "print(rand_list)\n",
    "\n",
    "def find_element(list, element):\n",
    "    for i, el in enumerate(list):\n",
    "        if el == element:\n",
    "            return i\n",
    "    return -1\n",
    "\n",
    "r = random.randint(0,1000)\n",
    "print(r)\n",
    "print(find_element(rand_list,r))"
   ]
  },
  {
   "cell_type": "code",
   "execution_count": 25,
   "id": "fb0c0aa9-1b9b-4f2b-80d2-07a8c37e6563",
   "metadata": {},
   "outputs": [
    {
     "name": "stdout",
     "output_type": "stream",
     "text": [
      "-1\n"
     ]
    }
   ],
   "source": [
    "print(find_element(rand_list,343))"
   ]
  },
  {
   "cell_type": "markdown",
   "id": "ec208b64-296f-4ffa-9833-55724df2ab34",
   "metadata": {},
   "source": [
    "Такой операцией можно определить наличие элемента в списке"
   ]
  },
  {
   "cell_type": "code",
   "execution_count": 26,
   "id": "7b299a2b-632d-41ae-b506-d93c42687c31",
   "metadata": {},
   "outputs": [
    {
     "name": "stdout",
     "output_type": "stream",
     "text": [
      "Meow\n"
     ]
    }
   ],
   "source": [
    "if 59 in rand_list:\n",
    "    print(\"Meow\")\n",
    "else:\n",
    "    print('Gaf')"
   ]
  },
  {
   "cell_type": "markdown",
   "id": "8abbb5be-0e82-496f-a002-432c85605119",
   "metadata": {},
   "source": [
    "## Обработка исключений\n",
    "\n",
    "Документация - https://docs.python.org/3/library/exceptions.html\n",
    "\n",
    "Анатомия явления представлена на примере ниже"
   ]
  },
  {
   "cell_type": "code",
   "execution_count": 31,
   "id": "348a8248-d027-4871-b039-0dfd5a70f8e5",
   "metadata": {},
   "outputs": [
    {
     "name": "stdin",
     "output_type": "stream",
     "text": [
      "Введите делимое 5\n",
      "Введите делитель 0\n"
     ]
    },
    {
     "name": "stdout",
     "output_type": "stream",
     "text": [
      "Вы пытаетесь делить на ноль! Такая операция не существует!\n",
      "None\n"
     ]
    }
   ],
   "source": [
    "# При попытке деления числа на 0,возникает исключительная ситуация ZeroDivisionError.\n",
    "# Список исключительных ситуаций и ситуации, когда они возникают, описаны в документации\n",
    "def save_division(a, b):\n",
    "    try:\n",
    "        # Обязательный блок. Здесь мы пишем код, от которого ожидаем исключительную ситуацию.\n",
    "        return a / b\n",
    "    except ZeroDivisionError: # except ИмяКлассаОшибок\n",
    "        # Обязательный блок. Здесь мы пишем код, который необходимо выполнить\n",
    "        # в случае возникновения исключительной ситуации.\n",
    "        print(\"Вы пытаетесь делить на ноль! Такая операция не существует!\")\n",
    "        return None\n",
    "    finally:\n",
    "        # Необязательный блок. Здесь мы пишем код, который должен выполниться \n",
    "        # в ЛЮБОМ случае! Несмотря на ошибки\n",
    "        pass\n",
    "    else:\n",
    "        # Необязательный блок. Здесь мы пишем код, который выполниться,\n",
    "        # если никаких ошибок не произошло\n",
    "        pass\n",
    "    \n",
    "a = int(input(\"Введите делимое\"))\n",
    "b = int(input(\"Введите делитель\"))\n",
    "c = save_division(a,b)\n",
    "print(c)"
   ]
  },
  {
   "cell_type": "code",
   "execution_count": 33,
   "id": "387a3a21-7bc6-4c51-942b-4a1d265f9f40",
   "metadata": {},
   "outputs": [
    {
     "ename": "ValueError",
     "evalue": "invalid literal for int() with base 10: '-234.5'",
     "output_type": "error",
     "traceback": [
      "\u001b[0;31m---------------------------------------------------------------------------\u001b[0m",
      "\u001b[0;31mValueError\u001b[0m                                Traceback (most recent call last)",
      "Cell \u001b[0;32mIn[33], line 1\u001b[0m\n\u001b[0;32m----> 1\u001b[0m \u001b[38;5;28mint\u001b[39m(\u001b[38;5;124m\"\u001b[39m\u001b[38;5;124m-234.5\u001b[39m\u001b[38;5;124m\"\u001b[39m)\n",
      "\u001b[0;31mValueError\u001b[0m: invalid literal for int() with base 10: '-234.5'"
     ]
    }
   ],
   "source": [
    "int(\"-234.5\")"
   ]
  },
  {
   "cell_type": "markdown",
   "id": "3072d7fc-0570-4d52-be16-5fa8e6450867",
   "metadata": {},
   "source": [
    "Будьте аккуратны с возвращением числа в блоке finally. Тогда все инструкции, которые досрочно, до блока finally, прерывают функцию, не будут выполнены, как на примере ниже. Поэтапно пробуем преобразовать строку в число, и если не вышло, информируем пользователя."
   ]
  },
  {
   "cell_type": "code",
   "execution_count": 1,
   "id": "1724c01d-a491-4ffb-82f6-cf69ee17a8fe",
   "metadata": {},
   "outputs": [
    {
     "name": "stdin",
     "output_type": "stream",
     "text": [
      " 5\n"
     ]
    },
    {
     "name": "stdout",
     "output_type": "stream",
     "text": [
      "5\n"
     ]
    }
   ],
   "source": [
    "def parse_number(s):\n",
    "    number = s\n",
    "    try:\n",
    "        number = int(s)\n",
    "        if number == 5:\n",
    "            # raise ИмяКлассаОшиок(Сообщение об ошибке)\n",
    "            # raise прерывает выполнение с некоторой ошибкой\n",
    "            # Это способ генерации собственных ошибок. Полезно.\n",
    "            raise TypeError(\"Я не хочу число 5!\")\n",
    "    except ValueError:\n",
    "        # Блок try-except можно вложить в любой из блоков обработки исключений.\n",
    "        try:\n",
    "            number = float(s)\n",
    "        except ValueError:\n",
    "            print(\"Строка не является числом.\")\n",
    "        else:\n",
    "            number = round(number, 0) \n",
    "    else:\n",
    "        print(number**2)\n",
    "    finally:\n",
    "        return number\n",
    "\n",
    "i = input()\n",
    "print(parse_number(i))"
   ]
  },
  {
   "cell_type": "markdown",
   "id": "231e8af1-aa33-4220-b993-dd955597f892",
   "metadata": {},
   "source": [
    "Так как блок finally содержит оператор return, то инструкция raise из блока try ингорируется, так как return должен быть выполнен в любом случае. В блок finally целесообразно помещать команды по высвобождению ресурсов (закрытию файлов, соединений с сервером и т.п.)"
   ]
  },
  {
   "cell_type": "code",
   "execution_count": null,
   "id": "796ded2e-1b1a-4da8-83a1-ea3c91f39055",
   "metadata": {},
   "outputs": [],
   "source": []
  }
 ],
 "metadata": {
  "kernelspec": {
   "display_name": "Python [conda env:.conda-descriptors]",
   "language": "python",
   "name": "conda-env-.conda-descriptors-py"
  },
  "language_info": {
   "codemirror_mode": {
    "name": "ipython",
    "version": 3
   },
   "file_extension": ".py",
   "mimetype": "text/x-python",
   "name": "python",
   "nbconvert_exporter": "python",
   "pygments_lexer": "ipython3",
   "version": "3.11.5"
  }
 },
 "nbformat": 4,
 "nbformat_minor": 5
}
