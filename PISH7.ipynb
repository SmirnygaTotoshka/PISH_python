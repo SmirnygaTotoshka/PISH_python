{
 "cells": [
  {
   "cell_type": "markdown",
   "id": "de69acf1-fca4-48d3-8d1f-ea415c65abc4",
   "metadata": {},
   "source": [
    "# Задачи по Python с разбором решения\n",
    "\n",
    "22.05.2025. Автор Смирнов Антон Сергеевич, ассистент кафедры биоинформатики МБФ РНИМУ им. Н.И. Пирогова \n",
    "\n",
    "Подготовлено в рамках курса по профессиональной переподготовки по биоинформатике передовой инженерной школы РНИМУ\n",
    "\n",
    "Часть задач взята с сайта https://code.mu/ru/python/tasker/stager\n",
    "\n",
    "## Тема 1 - условия и строки\n",
    "1. Дано число. Проверьте знак числа. Выведите об этом информацию в консоль."
   ]
  },
  {
   "cell_type": "code",
   "execution_count": 2,
   "id": "89923704-c3a9-452d-b387-48e668de9bc8",
   "metadata": {},
   "outputs": [
    {
     "name": "stdin",
     "output_type": "stream",
     "text": [
      "Введите число: -6\n"
     ]
    },
    {
     "name": "stdout",
     "output_type": "stream",
     "text": [
      "Введенное число отрицательное.\n"
     ]
    }
   ],
   "source": [
    "# Строки, начинающиеся с # - комментарий\n",
    "# Функция input() считывает информацию, введеную пользователем с клавиатуры. Для того, чтобы ей воспользоваться,\n",
    "# запишем её в переменную.\n",
    "user_input_string = input(\"Введите число:\")\n",
    "\n",
    "# Тип переменной user_input_string - строка. Для того, чтобы узнать знак, нужно сравнить с числом (с 0). \n",
    "# Числа можно сравнивать только с числами. Для этого нашу строку преобразуем в число путём создания новой\n",
    "# переменной соответствующего типа.\n",
    "# Обращаю внимание, что если строку нельзя преобразовать в число, программа завершит своё выполнение \n",
    "# с ошибкой TypeError\n",
    "number = int(user_input_string)\n",
    "\n",
    "# Затем сравниваем число с 0. Возможно 3 сценария, поэтому три ветки алгоритма.\n",
    "if number < 0:# Сначала будет проверено, это логическое высказывание. Если оно верно, выполнится эта ветка алгоритма\n",
    "    print(\"Введенное число отрицательное.\")\n",
    "elif number > 0:# Если предыдущее условие неверно, будет проверено следующее.\n",
    "    print(\"Введенное число положительное.\")\n",
    "else:# Если ни одно из условий не выполняется, выполнится код в ветке else\n",
    "    print(\"Введенное число равно 0.\")\n",
    "    \n",
    "# Обращаю внимание, что веток условий elif,else может быть от 0 до бесконечности."
   ]
  },
  {
   "cell_type": "markdown",
   "id": "9c374278-be99-40e8-a2df-788baf146d49",
   "metadata": {},
   "source": [
    "2. Дана строка. Выведите в консоль длину этой строки."
   ]
  },
  {
   "cell_type": "code",
   "execution_count": 3,
   "id": "f8bdb6af-0771-40ee-b6c2-8fdb7fc976b3",
   "metadata": {},
   "outputs": [
    {
     "name": "stdin",
     "output_type": "stream",
     "text": [
      "Введите строку: ваыв\n"
     ]
    },
    {
     "name": "stdout",
     "output_type": "stream",
     "text": [
      "4\n"
     ]
    }
   ],
   "source": [
    "user_input_string = input(\"Введите строку:\")\n",
    "# Несколько важных моментов:\n",
    "# 1. Вызов функции можно передать в качестве параметра другой функции. \n",
    "# Тогда возвращаемое функцией значение будет значением параметра\n",
    "# 2. В Python каждая сущность является объектом. Для них есть ряд встроенных методов, например, получение длины.\n",
    "print(len(user_input_string))"
   ]
  },
  {
   "cell_type": "markdown",
   "id": "b00e2cb4-f49d-4f4a-87fc-d6be212e3c1e",
   "metadata": {},
   "source": [
    "3. Дана строка. Выведите в консоль последний символ строки."
   ]
  },
  {
   "cell_type": "code",
   "execution_count": 4,
   "id": "917db1bb-23ed-4b0e-8d59-4ea5481ee27b",
   "metadata": {},
   "outputs": [
    {
     "name": "stdin",
     "output_type": "stream",
     "text": [
      "Введите строку: ывапываап\n"
     ]
    },
    {
     "name": "stdout",
     "output_type": "stream",
     "text": [
      "п\n"
     ]
    }
   ],
   "source": [
    "user_input_string = input(\"Введите строку:\")\n",
    "# В своей сути строка - кортеж(список) из отдельных символов, поэтому с ней работают те же правила индексации\n",
    "# В питоне возможны отрицательные индексы. Тогда нумерация элементов будет начинаться с -1 и \n",
    "# в противоположном направлении (справа налево).\n",
    "print(user_input_string[-1])"
   ]
  },
  {
   "cell_type": "markdown",
   "id": "f3d232cf-4799-4878-bf65-2a3b7e78305c",
   "metadata": {},
   "source": [
    "Для самостоятельного решения:\n",
    "\n",
    "4. Дано число. Проверьте, четное оно или нет.\n",
    "5. Даны два слова. Проверьте, что первые буквы этих слов совпадают.\n",
    "6. Дано слово. Получите его последнюю букву. Если слово заканчивается на мягкий знак, то получите предпоследнюю букву.\n",
    "\n",
    "Примечание. Для проверки на четность необходим оператор получения остатка от деления."
   ]
  },
  {
   "cell_type": "markdown",
   "id": "2efba875-4010-499d-bad9-b1702d46c46c",
   "metadata": {
    "tags": []
   },
   "source": [
    "## Тема 2 - числа и циклы\n",
    "\n",
    "7. Дано целое число. Выведите в консоль первую цифру этого числа.\n",
    "\n",
    "Самый простой на первый взгляд путь - преобразовать число в строку и получить первый символ. Однако, это будет работать только для положительных чисел. Трюк с преобразованием в строку надо использовать аккуратно. Обычно отдельные цифры числа находят комбинацией операцией целочисленного деления и деления с остатком на степень 10. Задача усложняется тем, что нам неизвестно число разрядов, следовательно, не знаем на что делить. Значит необходимо делить на 10 **до тех пор, пока** результат деления нацело не будет от 1 до 9. Следовательно алгоритм будет содержать цикл (до тех пор, пока верно условие)"
   ]
  },
  {
   "cell_type": "code",
   "execution_count": 44,
   "id": "7568f05f-26af-46c2-9e82-e5a7678282a9",
   "metadata": {},
   "outputs": [
    {
     "name": "stdin",
     "output_type": "stream",
     "text": [
      "Введите число: -543\n"
     ]
    },
    {
     "name": "stdout",
     "output_type": "stream",
     "text": [
      "5\n"
     ]
    }
   ],
   "source": [
    "# Введенное число может быть и дробью.\n",
    "number = int(input(\"Введите число:\"))\n",
    "\n",
    "# В случае отрицательного числа, получим не цифру, а отрицательное число.\n",
    "# Чтобы этого избежать, возьмем модуль числа\n",
    "abs_number = abs(number)\n",
    "# Суть алгоритма - уменьшать на порядок наше число, пока не получим первую цифру\n",
    "while abs_number > 10:\n",
    "    abs_number //= 10 # Укороченная форма записи abs_number = abs_number // 10\n",
    "    \n",
    "print(abs_number)"
   ]
  },
  {
   "cell_type": "markdown",
   "id": "fc0b50d3-9b3d-45fd-b7bd-90dfe1763840",
   "metadata": {},
   "source": [
    "8. Дано целое число. Выведите в консоль последнюю цифру этого числа. Здесь попробуем с преобразованием в строку"
   ]
  },
  {
   "cell_type": "code",
   "execution_count": 45,
   "id": "059e5337-8bc8-4bfa-b48e-0fe5e79aad3a",
   "metadata": {},
   "outputs": [
    {
     "name": "stdin",
     "output_type": "stream",
     "text": [
      "Введите число: 3455\n"
     ]
    },
    {
     "name": "stdout",
     "output_type": "stream",
     "text": [
      "5\n"
     ]
    }
   ],
   "source": [
    "# В случае невозможности перевода в число программа завершится с ошибкой\n",
    "# Ошибки можно обрабатывать, предотвращая досрочное завершение программы, но это тема следующих занятий\n",
    "number = int(input(\"Введите число:\"))\n",
    "# Создание объекта строка из нашего числа\n",
    "number_string = str(number)\n",
    "\n",
    "last_digit = number_string[-1]\n",
    "print(last_digit)"
   ]
  },
  {
   "cell_type": "markdown",
   "id": "3565f7d6-4437-44d9-a4cd-fb654b0368bf",
   "metadata": {},
   "source": [
    "9. Дано число. Выведите количество цифр в этом числе.\n",
    "\n",
    "Можно воспользоваться переводом в числа в строку. Но есть нюанс, что такая строка, может содержать не только цифры! Поэтому будем проверять каждый символ(следовательно нужен  цикл) на принадлежность классу \"цифра\". "
   ]
  },
  {
   "cell_type": "code",
   "execution_count": 18,
   "id": "d246bcac-216e-44a3-8fe9-3824745a3c6f",
   "metadata": {},
   "outputs": [
    {
     "name": "stdin",
     "output_type": "stream",
     "text": [
      "Введите число: -234.45\n"
     ]
    },
    {
     "name": "stdout",
     "output_type": "stream",
     "text": [
      "5\n"
     ]
    }
   ],
   "source": [
    "input_string = input(\"Введите число:\")\n",
    "# \"Проверка\" на число. Если строка является числом, то интерпретатор создаст объект с этим числом типа float.\n",
    "#\n",
    "number = float(input_string)\n",
    "\n",
    "number_of_digits = 0\n",
    "# Помните, что суть строки - список символов. Важно, строка - неизменяемый(immutable) тип .поэтому она ближе к кортежам.\n",
    "# Проверяем каждый символ из input_string. symbol хранит текущий проверяемый символ, а не его позицию!\n",
    "for symbol in input_string:\n",
    "    if symbol.isdigit():\n",
    "        number_of_digits += 1 # Сокращенно от number_of_digits = number_of_digits + 1\n",
    "        \n",
    "print(number_of_digits)"
   ]
  },
  {
   "cell_type": "markdown",
   "id": "a56b20aa-b197-4c57-9aa1-c3d254c70fbe",
   "metadata": {},
   "source": [
    "Для самостоятельного решения (попробуйте определить собственные функции)\n",
    "\n",
    "10. Дано число. Выведите в консоль сумму первой и последней цифры этого числа.\n",
    "11. Даны два числа. Проверьте, что первые цифры этих чисел совпадают.\n",
    "12. Дана строка. Выведите её на экран посимвольно."
   ]
  },
  {
   "cell_type": "markdown",
   "id": "8c3588e1-dec1-44c1-9ff4-ad468f98a51e",
   "metadata": {},
   "source": [
    "## Тема 3 - коллекции\n",
    "\n",
    "### Словари\n",
    "\n",
    "Словари - неупорядоченная коллекция из пар \"ключ-значение\". В словаре нет повторяющихся ключей, но могут быть повторяющиеся значения. Следующие упражнения направлены на отработку навыков с словарем\n",
    "\n",
    "13. Дан словарь:\n",
    "\n",
    "{\n",
    "\t'a': 1,\n",
    "\t'b': 2,\n",
    "\t'c': 3, \n",
    "\t'd': 4\n",
    "}\n",
    "\n",
    "Найдите сумму элементов этого словаря."
   ]
  },
  {
   "cell_type": "code",
   "execution_count": 20,
   "id": "5e2e1576-81f0-4efe-a98e-833f80084ca8",
   "metadata": {},
   "outputs": [
    {
     "name": "stdout",
     "output_type": "stream",
     "text": [
      "10\n"
     ]
    }
   ],
   "source": [
    "input_dict = {'a':1, 'b':2, 'c':3, 'd':4}\n",
    "s = 0\n",
    "# input_dict.values() генератор значений словаря. Генератор это специальный тип функций, \n",
    "# который вместо того, чтобы возвращать весь список значений, возвращает их по одному. Важно для экономии памяти.\n",
    "for value in input_dict.values():\n",
    "    s += value\n",
    "print(s)"
   ]
  },
  {
   "cell_type": "markdown",
   "id": "df03f0a2-7929-4425-a893-db8149194a7e",
   "metadata": {},
   "source": [
    "14. Дан словарь:\n",
    "\n",
    "{ 'a': 1, 'b': 2, 'c': 3, 'd': 4 }\n",
    "\n",
    "Составьте строку из ключей словаря"
   ]
  },
  {
   "cell_type": "code",
   "execution_count": 21,
   "id": "e096875d-d53a-4802-918a-6e8d3eec538d",
   "metadata": {},
   "outputs": [
    {
     "name": "stdout",
     "output_type": "stream",
     "text": [
      "abcd\n"
     ]
    }
   ],
   "source": [
    "input_dict = {'a':1, 'b':2, 'c':3, 'd':4}\n",
    "s = \"\"\n",
    "# input_dict.values() генератор ключей словаря.\n",
    "for key in input_dict.keys():\n",
    "    s += key\n",
    "print(s)"
   ]
  },
  {
   "cell_type": "markdown",
   "id": "b16b15d5-5464-4d49-9de7-336128a7cae3",
   "metadata": {},
   "source": [
    "15. Дан словарь:\n",
    "\n",
    "{ 'a': 1, 'b': 2, 'c': 3, 'd': 4 }\n",
    "\n",
    "Добавьте в словарь значение с ключом как из второго задания и значением как из первого задания"
   ]
  },
  {
   "cell_type": "code",
   "execution_count": 23,
   "id": "4bf56eb7-ce81-4c2e-aa8c-c1d21861fe31",
   "metadata": {},
   "outputs": [
    {
     "name": "stdout",
     "output_type": "stream",
     "text": [
      "{'a': 1, 'b': 2, 'c': 3, 'd': 4, 'abcd': 10}\n"
     ]
    }
   ],
   "source": [
    "input_dict = {'a':1, 'b':2, 'c':3, 'd':4}\n",
    "key = \"\"\n",
    "value = 0\n",
    "# input_dict.values() генератор возвращающий кортеж из ключа и соответствующего значения словаря.\n",
    "for k,v in input_dict.items():\n",
    "    key += k\n",
    "    value += v\n",
    "input_dict[key] = value\n",
    "print(input_dict)"
   ]
  },
  {
   "cell_type": "markdown",
   "id": "b92188dc-cd64-40c7-a632-35bfdb4d7702",
   "metadata": {},
   "source": [
    "### Списки\n",
    "\n",
    "16. Дан список со строками. Оставьте в этом списке только те строки, которые начинаются на http://"
   ]
  },
  {
   "cell_type": "code",
   "execution_count": 6,
   "id": "3f0f9d75-f572-495c-a65f-76a0909d6065",
   "metadata": {},
   "outputs": [
    {
     "name": "stdout",
     "output_type": "stream",
     "text": [
      "Исходный список ['kar', 'meow', 'https://rsmu.ru', 'bioinf', 'http://yandex.ru', 'Russia']\n",
      "Осталось ['http://yandex.ru']\n"
     ]
    }
   ],
   "source": [
    "input_list = [\"kar\", \"meow\", \"https://rsmu.ru\", \"bioinf\", \"http://yandex.ru\", \"Russia\"]\n",
    "#f-строки позваляют с помощью простой нотации вставлять в исходную строку значение переменной или \n",
    "# какого-либо выражения внутри фигурных скобок\n",
    "print(f\"Исходный список {input_list}\")\n",
    "# Изменять исходный список - плохая идея, поэтому сделаем копию. Помним, что список - ссылочный тип.\n",
    "result_list = input_list.copy()\n",
    "for item in input_list:\n",
    "    if not item.startswith(\"http://\"):\n",
    "        result_list.remove(item)\n",
    "print(f\"Осталось {result_list}\")"
   ]
  },
  {
   "cell_type": "markdown",
   "id": "0626e06f-1a83-4486-a719-60f89c6a200a",
   "metadata": {},
   "source": [
    "17. Дан некоторый список, например, вот такой:\n",
    "\n",
    "[1, 2, 3, 4, 5, 6]\n",
    "\n",
    "Поделите сумму элементов, стоящих на четных позициях, на сумму элементов, стоящих на нечетных позициях."
   ]
  },
  {
   "cell_type": "code",
   "execution_count": 2,
   "id": "ba4a51ab-a703-4099-bdb6-f28b95f12da7",
   "metadata": {},
   "outputs": [
    {
     "name": "stdout",
     "output_type": "stream",
     "text": [
      "0.8571428571428571\n"
     ]
    }
   ],
   "source": [
    "input_list = [1,2,3,4,5,6,7,8,9,10,11,12]\n",
    "sum_odd_pos = 0\n",
    "sum_even_pos = 0\n",
    "# enumerate возвращает генератор (позиция элемента, значение элемента)\n",
    "# i,v = tuple распаковка элементов кортежа по отдельным переменным\n",
    "for i, value in enumerate(input_list):\n",
    "    if i % 2 == 0:\n",
    "        sum_even_pos += value\n",
    "    else:\n",
    "        sum_odd_pos += value\n",
    "        \n",
    "print(sum_even_pos / sum_odd_pos)"
   ]
  },
  {
   "cell_type": "code",
   "execution_count": 4,
   "id": "15f9603a-6002-4765-b059-7272af6a5754",
   "metadata": {},
   "outputs": [
    {
     "data": {
      "text/plain": [
       "0.8571428571428571"
      ]
     },
     "execution_count": 4,
     "metadata": {},
     "output_type": "execute_result"
    }
   ],
   "source": [
    "sum_odd_pos = sum(input_list[0:len(input_list):2]) \n",
    "sum_even_pos =  sum(input_list[1:len(input_list):2])\n",
    "sum_odd_pos / sum_even_pos"
   ]
  },
  {
   "cell_type": "markdown",
   "id": "1552cde8-e36a-4524-a855-faf869f3f41b",
   "metadata": {},
   "source": [
    "18. Организуйте ввод чисел с клавиатуры, пока не будет введен 0. Сохраняйте числа в список. Если в получившемся списке есть отрицательные числа, поменяйте знак каждого числа"
   ]
  },
  {
   "cell_type": "code",
   "execution_count": 35,
   "id": "40f4be61-a855-4968-a206-dcd64a505c43",
   "metadata": {},
   "outputs": [
    {
     "name": "stdin",
     "output_type": "stream",
     "text": [
      "Введите число: 5\n",
      "Введите число: 7\n",
      "Введите число: -3\n",
      "Введите число: 4\n",
      "Введите число: 0\n"
     ]
    },
    {
     "name": "stdout",
     "output_type": "stream",
     "text": [
      "[-5.0, -7.0, 3.0, -4.0, -0.0]\n"
     ]
    }
   ],
   "source": [
    "input_values = []\n",
    "# флаг, который нам сигнализирует о наличии отрицательных чисел в наборе\n",
    "has_negative = False\n",
    "# Так определяется бесконечный цикл. ОСТОРОЖНО! обязательно должно быть условия выхода из него, иначе программа зависнет\n",
    "while True:\n",
    "    number = float(input(\"Введите число:\"))\n",
    "    input_values.append(number)\n",
    "    if number == 0:\n",
    "        break\n",
    "    if number < 0:\n",
    "        has_negative = True\n",
    "        \n",
    "if has_negative:\n",
    "    for i,v in enumerate(input_values):\n",
    "        input_values[i] = -1 * v\n",
    "print(input_values)"
   ]
  },
  {
   "cell_type": "markdown",
   "id": "8e3def09-b8fa-467f-ac40-e2aac42f5bb6",
   "metadata": {},
   "source": [
    "### Множества\n",
    "\n",
    "19. Дана некоторая строка:\n",
    "\n",
    "'abcdeabc'\n",
    "\n",
    "Очистите ее от дублей символов:\n",
    "\n",
    "'abcde'"
   ]
  },
  {
   "cell_type": "code",
   "execution_count": 7,
   "id": "d920c2f0-c105-401f-b456-f3eee6a3af50",
   "metadata": {},
   "outputs": [
    {
     "name": "stdin",
     "output_type": "stream",
     "text": [
      " выаывапрпаы\n"
     ]
    },
    {
     "name": "stdout",
     "output_type": "stream",
     "text": [
      "выапр\n"
     ]
    }
   ],
   "source": [
    "input_string = input()\n",
    "result = []\n",
    "# Создадим пустое множество, куда будем добавлять буквы.\n",
    "# Множество содержит только уникальные элементы.\n",
    "seen = set()\n",
    "\n",
    "for char in input_string:\n",
    "    #оператор in проверяет наличие элемента в коллекции/строке. not in отрицание in\n",
    "    if char not in seen:\n",
    "        result.append(char)\n",
    "        seen.add(char)\n",
    "#Список строк можно объединить с некоторым разделителем с помощью функции join\n",
    "print(''.join(result))"
   ]
  },
  {
   "cell_type": "markdown",
   "id": "6377516d-e305-496b-9bc9-f21978a9d4a9",
   "metadata": {},
   "source": [
    "Для самостоятельного решения \n",
    "\n",
    "20. Дан некоторый список с числами, например, вот такой:\n",
    "\n",
    "[1, 2, 3, 4, 5, 6]\n",
    "\n",
    "Слейте пары элементов вместе:\n",
    "\n",
    "[12, 34, 56]\n",
    "\n",
    "Примечание. Может понадобиться функция range. Ознакомьтесь с примерами использования https://pythonru.com/osnovy/funkcija-range-v-python\n",
    "\n",
    "21. Даны две строки:\n",
    "\n",
    "txt1 = 'abcde'\n",
    "txt2 = '12345'\n",
    "\n",
    "Сделайте из этих строк словарь так, чтобы символы первой строки стали ключами, а символы второй строки - значениями:\n",
    "\n",
    "{\n",
    "\t'a': 1,\n",
    "\t'b': 2,\n",
    "\t'c': 3, \n",
    "\t'd': 4,\n",
    "\t'e': 5,\n",
    "}\n",
    "\n",
    "Примечание. Может понадобиться функция zip. Ознакомьтесь с примерами использования https://pythoner.name/zip\n",
    "\n",
    "22. Даны два множества. Найдите их пересечение, объединение, разность и симметричную разность.\n",
    "\n",
    "{1,5,6,34,12,45,234}\n",
    "{1,10,6,34,74,32,234}"
   ]
  },
  {
   "cell_type": "markdown",
   "id": "24581560-3865-4588-b50a-5b8aa98f39d8",
   "metadata": {},
   "source": [
    "## Ответы на задачи"
   ]
  },
  {
   "cell_type": "markdown",
   "id": "95783982-88b5-42b0-80cf-69ceb2912c34",
   "metadata": {},
   "source": [
    "4. Дано число. Проверьте, четное оно или нет."
   ]
  },
  {
   "cell_type": "code",
   "execution_count": 5,
   "id": "fa0bf352-c2b2-467c-a88b-c68be6c4d553",
   "metadata": {},
   "outputs": [
    {
     "name": "stdin",
     "output_type": "stream",
     "text": [
      "Введите число: 34\n"
     ]
    },
    {
     "name": "stdout",
     "output_type": "stream",
     "text": [
      "Число четное\n"
     ]
    }
   ],
   "source": [
    "number = int(input(\"Введите число:\"))\n",
    "if number % 2 == 0:\n",
    "    print(\"Число четное\")\n",
    "else:\n",
    "    print(\"Число нечетное\")"
   ]
  },
  {
   "cell_type": "markdown",
   "id": "f971f8bc-2b1d-4234-b449-ab0c5269b209",
   "metadata": {},
   "source": [
    "5. Даны два слова. Проверьте, что первые буквы этих слов совпадают."
   ]
  },
  {
   "cell_type": "code",
   "execution_count": 16,
   "id": "5c8e5e24-fd4d-491b-9dd4-9e6bc57c26e0",
   "metadata": {},
   "outputs": [
    {
     "name": "stdin",
     "output_type": "stream",
     "text": [
      " qwerty\n",
      " quick\n"
     ]
    },
    {
     "name": "stdout",
     "output_type": "stream",
     "text": [
      "Первые буквы совпадают.\n"
     ]
    }
   ],
   "source": [
    "word1 = input()\n",
    "word2 = input()\n",
    "\n",
    "if word1[0] == word2[0]:\n",
    "    print(\"Первые буквы совпадают.\")\n",
    "else:\n",
    "    print(\"Первые буквы не совпадают.\")"
   ]
  },
  {
   "cell_type": "markdown",
   "id": "4711a13d-6ea5-4114-a6c9-6a07347da1aa",
   "metadata": {},
   "source": [
    "6. Дано слово. Получите его последнюю букву. Если слово заканчивается на мягкий знак, то получите предпоследнюю букву."
   ]
  },
  {
   "cell_type": "code",
   "execution_count": 17,
   "id": "2c8dfaf5-e463-4925-af44-7458c28c3f38",
   "metadata": {},
   "outputs": [
    {
     "name": "stdin",
     "output_type": "stream",
     "text": [
      " лосось\n"
     ]
    },
    {
     "name": "stdout",
     "output_type": "stream",
     "text": [
      "с\n"
     ]
    }
   ],
   "source": [
    "word = input()\n",
    "last_letter = word[-1]\n",
    "if last_letter == 'ь':\n",
    "    last_letter = word[-2]\n",
    "print(last_letter)"
   ]
  },
  {
   "cell_type": "markdown",
   "id": "ab8fe702-611c-4ff0-8d98-eb97b9ef6b6f",
   "metadata": {},
   "source": [
    "10. Дано число. Выведите в консоль сумму первой и последней цифры этого числа."
   ]
  },
  {
   "cell_type": "code",
   "execution_count": 50,
   "id": "13dabefa-7795-4179-a0b3-08b9a527e04b",
   "metadata": {},
   "outputs": [
    {
     "name": "stdin",
     "output_type": "stream",
     "text": [
      "Введите число: 534534566\n"
     ]
    },
    {
     "name": "stdout",
     "output_type": "stream",
     "text": [
      "11\n"
     ]
    }
   ],
   "source": [
    "def get_first_digit(number):\n",
    "    return int(str(abs(number))[0])\n",
    "\n",
    "def get_last_digit(number):\n",
    "    return number % 10\n",
    "\n",
    "input_string = input(\"Введите число:\")\n",
    "# \"Проверка\" на число\n",
    "number = int(input_string)\n",
    "print(get_first_digit(number)+get_last_digit(number))"
   ]
  },
  {
   "cell_type": "markdown",
   "id": "b42a8990-95f8-41c5-be97-ffe8ae7d59f5",
   "metadata": {},
   "source": [
    "11. Даны два числа. Проверьте, что первые цифры этих чисел совпадают."
   ]
  },
  {
   "cell_type": "code",
   "execution_count": 51,
   "id": "ff1f5a8b-79e5-4d18-9f83-0de3eeb1dbc0",
   "metadata": {},
   "outputs": [
    {
     "name": "stdin",
     "output_type": "stream",
     "text": [
      " 234234\n",
      " 235\n"
     ]
    },
    {
     "name": "stdout",
     "output_type": "stream",
     "text": [
      "Первые цифры совпадают.\n"
     ]
    }
   ],
   "source": [
    "n1 = int(input())\n",
    "n2 = int(input())\n",
    "\n",
    "def get_first_digit(number):\n",
    "    return int(str(abs(number))[0])\n",
    "\n",
    "f1 = get_first_digit(n1)\n",
    "f2 = get_first_digit(n2)\n",
    "\n",
    "if f1 == f2:\n",
    "    print(\"Первые цифры совпадают.\")\n",
    "else:\n",
    "    print(\"Первые цифры не совпадают.\")"
   ]
  },
  {
   "cell_type": "markdown",
   "id": "190d0534-86ca-4a80-abc1-fb56f21ee6f6",
   "metadata": {},
   "source": [
    "12. Дана строка. Выведите её на экран посимвольно."
   ]
  },
  {
   "cell_type": "code",
   "execution_count": 5,
   "id": "01dc5cfa-35b7-4596-aae4-e2d78ba61372",
   "metadata": {},
   "outputs": [
    {
     "name": "stdin",
     "output_type": "stream",
     "text": [
      "Введите строку: dsfdsfg\n"
     ]
    },
    {
     "name": "stdout",
     "output_type": "stream",
     "text": [
      "d\n",
      "s\n",
      "f\n",
      "d\n",
      "s\n",
      "f\n",
      "g\n"
     ]
    }
   ],
   "source": [
    "input_string = input(\"Введите строку:\")\n",
    "\n",
    "for s in input_string:\n",
    "    print(s)"
   ]
  },
  {
   "cell_type": "markdown",
   "id": "011549a6-4b4f-46b4-ae45-7875db8c95d4",
   "metadata": {},
   "source": [
    "20. \n",
    "Дан некоторый список с числами, например, вот такой:\n",
    "\n",
    "[1, 2, 3, 4, 5, 6]\n",
    "\n",
    "Слейте пары элементов вместе:\n",
    "\n",
    "[12, 34, 56]\n"
   ]
  },
  {
   "cell_type": "code",
   "execution_count": 53,
   "id": "9d52e037-bc8e-4697-97f3-7c705a764e7d",
   "metadata": {},
   "outputs": [
    {
     "name": "stdout",
     "output_type": "stream",
     "text": [
      "[12, 34, 56]\n"
     ]
    }
   ],
   "source": [
    "input_list = [1, 2, 3, 4, 5, 6]\n",
    "result_list = []\n",
    "\n",
    "for i in range(1, len(input_list),2):\n",
    "    s = str(input_list[i-1]) + str(input_list[i])\n",
    "    result_list.append(int(s))\n",
    "    \n",
    "print(result_list)"
   ]
  },
  {
   "cell_type": "markdown",
   "id": "e75d64ae-86fd-44f1-88f4-5197c1476a4f",
   "metadata": {},
   "source": [
    "21. Даны две строки:\n",
    "\n",
    "txt1 = 'abcde' txt2 = '12345'\n",
    "\n",
    "Сделайте из этих строк словарь так, чтобы символы первой строки стали ключами, а символы второй строки - значениями:\n",
    "\n",
    "{ 'a': 1, 'b': 2, 'c': 3, 'd': 4, 'e': 5, }"
   ]
  },
  {
   "cell_type": "code",
   "execution_count": 54,
   "id": "91f27c90-acfc-4ef3-95ca-ea32060da1aa",
   "metadata": {},
   "outputs": [
    {
     "name": "stdout",
     "output_type": "stream",
     "text": [
      "{'a': '1', 'b': '2', 'c': '3', 'd': '4', 'e': '5'}\n"
     ]
    }
   ],
   "source": [
    "txt1 = 'abcde' \n",
    "txt2 = '12345'\n",
    "result = dict()\n",
    "for k, v in zip(txt1,txt2):\n",
    "    result[k] = v\n",
    "print(result)"
   ]
  },
  {
   "cell_type": "markdown",
   "id": "d97b1767-6035-4ca9-b526-b111d23dfc87",
   "metadata": {},
   "source": [
    "22. \n",
    "\n",
    "Даны два множества. \n",
    "\n",
    "{1,5,6,34,12,45,234} {1,10,6,34,74,32,234}\n",
    "\n",
    "Найдите их пересечение, объединение, разность и симметричную разность."
   ]
  },
  {
   "cell_type": "code",
   "execution_count": 57,
   "id": "a905754a-4fb5-4983-9773-5df4d50678ad",
   "metadata": {},
   "outputs": [
    {
     "name": "stdout",
     "output_type": "stream",
     "text": [
      "{1, 34, 234, 6}\n",
      "{32, 1, 34, 5, 6, 234, 74, 12, 45, 10}\n",
      "{45, 12, 5}\n",
      "{32, 5, 74, 10, 12, 45}\n"
     ]
    }
   ],
   "source": [
    "s1 = {1,5,6,34,12,45,234}\n",
    "s2 = {1,10,6,34,74,32,234}\n",
    "\n",
    "print(s1.intersection(s2))\n",
    "print(s1.union(s2))\n",
    "print(s1.difference(s2))\n",
    "print(s1.symmetric_difference(s2))"
   ]
  },
  {
   "cell_type": "code",
   "execution_count": null,
   "id": "8f9b5320-0fe5-4ff6-9f26-8980bdf9f4e9",
   "metadata": {},
   "outputs": [],
   "source": []
  }
 ],
 "metadata": {
  "kernelspec": {
   "display_name": "Python [conda env:.conda-descriptors]",
   "language": "python",
   "name": "conda-env-.conda-descriptors-py"
  },
  "language_info": {
   "codemirror_mode": {
    "name": "ipython",
    "version": 3
   },
   "file_extension": ".py",
   "mimetype": "text/x-python",
   "name": "python",
   "nbconvert_exporter": "python",
   "pygments_lexer": "ipython3",
   "version": "3.11.5"
  },
  "toc-autonumbering": true
 },
 "nbformat": 4,
 "nbformat_minor": 5
}
