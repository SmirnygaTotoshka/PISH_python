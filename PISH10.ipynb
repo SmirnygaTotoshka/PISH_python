{
 "cells": [
  {
   "cell_type": "markdown",
   "metadata": {},
   "source": [
    "# ООП. Наследование и полиморфизм\n",
    "\n",
    "29.01.2025. автор - Смирнов Антон Сергеевич, ассистент кафедры биоинформатики МБФ РНИМУ им. Н.И. Пирогова\n",
    "\n",
    "Подготовлено в рамках цикла профессиональной переподготовки передовой инженерной школы РНИМУ.\n",
    "\n",
    "# Введение\n",
    "\n",
    "Наследование - принцип ООП, согласно которому класс-наследник может получать функции и переменные от класса-родителя. Класс-родитель является более абстрактной моделью. Класс-наследник является более конкретной реализацией. Создавая иерархии классов, мы создаем множество моделей одного абстрактного явления. Множество форм - полиморфизм."
   ]
  },
  {
   "cell_type": "code",
   "execution_count": 1,
   "metadata": {},
   "outputs": [],
   "source": [
    "class Animal():\n",
    "    pass\n",
    "\n",
    "class Cat(Animal): #класс-родитель указывается в круглых скобках\n",
    "    pass"
   ]
  },
  {
   "cell_type": "markdown",
   "metadata": {},
   "source": [
    "Классы наследуют от родителей переменные и функции, которые располагаются в public и protected областях."
   ]
  },
  {
   "cell_type": "code",
   "execution_count": 2,
   "metadata": {},
   "outputs": [
    {
     "name": "stdout",
     "output_type": "stream",
     "text": [
      "I am Animal!\n",
      "I am Animal!\n"
     ]
    }
   ],
   "source": [
    "class Animal():\n",
    "\n",
    "    def exclaim(self):\n",
    "        print('I am Animal!')\n",
    "\n",
    "class Cat(Animal): #класс-родитель указывается в круглых скобках\n",
    "    pass\n",
    "    # класс Cat также имеет метод exclaim\n",
    "\n",
    "animal = Animal()\n",
    "animal.exclaim()\n",
    "\n",
    "cat = Cat()\n",
    "cat.exclaim()"
   ]
  },
  {
   "cell_type": "markdown",
   "metadata": {},
   "source": [
    "Классам-наследникам бывает необходимо изменять унаследованное поведение, **переопределяя** унаследованные функции, таким образом создавая множество форм (полиморфизм). Переопределить можно любой унаследованный метод."
   ]
  },
  {
   "cell_type": "code",
   "execution_count": 3,
   "metadata": {},
   "outputs": [
    {
     "name": "stdout",
     "output_type": "stream",
     "text": [
      "I am Animal!\n",
      "I am Cat! Child of Animal!\n"
     ]
    }
   ],
   "source": [
    "class Animal():\n",
    "\n",
    "    def exclaim(self):\n",
    "        print('I am Animal!')\n",
    "\n",
    "class Cat(Animal): #класс-родитель указывается в круглых скобках\n",
    "    \n",
    "    def exclaim(self):\n",
    "        print('I am Cat! Child of Animal!')\n",
    "\n",
    "animal = Animal()\n",
    "animal.exclaim()\n",
    "\n",
    "cat = Cat()\n",
    "cat.exclaim()"
   ]
  },
  {
   "cell_type": "markdown",
   "metadata": {},
   "source": [
    "Класс-наследник может иметь функции, которых нет в классе-родителе."
   ]
  },
  {
   "cell_type": "code",
   "execution_count": 4,
   "metadata": {},
   "outputs": [
    {
     "name": "stdout",
     "output_type": "stream",
     "text": [
      "I am Animal!\n",
      "I am Cat! Child of Animal!\n",
      "Purr purr purr!\n"
     ]
    }
   ],
   "source": [
    "class Animal():\n",
    "\n",
    "    def exclaim(self):\n",
    "        print('I am Animal!')\n",
    "\n",
    "class Cat(Animal): #класс-родитель указывается в круглых скобках\n",
    "    \n",
    "    def exclaim(self):\n",
    "        print('I am Cat! Child of Animal!')\n",
    "\n",
    "    def purr(self):\n",
    "        print('Purr purr purr!')\n",
    "\n",
    "animal = Animal()\n",
    "animal.exclaim()\n",
    "\n",
    "cat = Cat()\n",
    "cat.exclaim()\n",
    "cat.purr()"
   ]
  },
  {
   "cell_type": "markdown",
   "metadata": {},
   "source": [
    "Класс-потомок может вызвать метод класса-родителя."
   ]
  },
  {
   "cell_type": "code",
   "execution_count": 5,
   "metadata": {},
   "outputs": [
    {
     "name": "stdout",
     "output_type": "stream",
     "text": [
      "Bob Frapples\n",
      "bob@frapples.com\n"
     ]
    }
   ],
   "source": [
    "class Person():\n",
    "    def __init__(self, name):\n",
    "        self.name = name\n",
    "\n",
    "class EmailPerson(Person):\n",
    "    def __init__(self, name, email):\n",
    "        super().__init__(name) # вызов родительского конструктора с помощью super()\n",
    "        self.email = email # появилось доп.свойство в отличие от родителя\n",
    "\n",
    "bob = EmailPerson('Bob Frapples', 'bob@frapples.com')\n",
    "print(bob.name)\n",
    "print(bob.email)"
   ]
  },
  {
   "cell_type": "markdown",
   "metadata": {},
   "source": [
    "Когда вы определяете метод __init__() для своего класса, вы заменяете метод __init__() родительского класса, который больше не вызывается автоматически. В результате вам нужно вызывать его явно. Происходит следующее.\n",
    "\n",
    "- Метод super() получает определение родительского класса Person.\n",
    "- Метод __init__() вызывает метод Person.__init__(). Последний заботится о том, чтобы передать аргумент self суперклассу, поэтому вам нужно лишь передать опциональные аргументы. В нашем случае единственным аргументом класса Person() будет name.\n",
    "- Строка self.email = email — это новый код, который отличает класс EmailPerson от класса Person.\n",
    "\n",
    "Почему бы нам просто не определить новый класс так, как показано далее?"
   ]
  },
  {
   "cell_type": "code",
   "execution_count": null,
   "metadata": {},
   "outputs": [],
   "source": [
    "class EmailPerson(Person):\n",
    "    def __init__(self, name, email):\n",
    "        self.name = name\n",
    "        self.email = email"
   ]
  },
  {
   "cell_type": "markdown",
   "metadata": {},
   "source": [
    "Мы могли бы сделать это, но в таком случае потеряли бы возможность применять наследование. Мы использовали метод super(), чтобы создать объект, который работает примерно так же, как и объект класса Person. Есть и другое преимущество: если определение класса Person в будущем изменится, с помощью метода super() мы сможем гарантировать, что атрибуты и методы, которые класс EmailPerson наследует от класса Person, отреагируют на изменения.\n",
    "\n",
    "Используйте метод super(), когда потомок делает что-то самостоятельно, но ему все еще нужно что-то от предка (как и в реальной жизни)"
   ]
  },
  {
   "cell_type": "markdown",
   "metadata": {},
   "source": [
    "# Типы методов\n",
    "\n",
    "Одни данные (*атрибуты*) и функции (*методы*) являются частью самого класса, а другие — частью объектов, которые созданы на его основе. Когда вы видите начальный аргумент self в методах внутри определения класса, этот метод является *методом экземпляра*. Такие методы вы обычно пишете при создании собственного класса. Первый параметр метода экземпляра — это self, и Python передает объект методу, когда вы его вызываете.\n",
    "\n",
    "В противоположность ему метод класса влияет на весь класс целиком. Любое изменение, которое происходит с классом, влияет на все его объекты. Внутри определения класса декоратор @classmethod показывает, что следующая функция является методом класса. Первым параметром метода также является сам класс. Согласно традиции этот параметр называется cls, поскольку слово class является зарезервированным и не может быть использовано здесь. Определим метод класса для А, который будет подсчитывать количество созданных объектов:"
   ]
  },
  {
   "cell_type": "code",
   "execution_count": 1,
   "metadata": {},
   "outputs": [
    {
     "name": "stdout",
     "output_type": "stream",
     "text": [
      "A has 3 little objects.\n"
     ]
    }
   ],
   "source": [
    "class A():\n",
    "    count = 0\n",
    "    \n",
    "    def __init__(self):\n",
    "        A.count += 1\n",
    "    \n",
    "    def exclaim(self):\n",
    "        print(\"I'm an A!\")\n",
    "    \n",
    "    @classmethod\n",
    "    def kids(cls):\n",
    "        print(\"A has\", cls.count, \"little objects.\")\n",
    "\n",
    "easy_a = A()\n",
    "breezy_a = A()\n",
    "wheezy_a = A()\n",
    "A.kids()"
   ]
  },
  {
   "cell_type": "code",
   "execution_count": 2,
   "metadata": {},
   "outputs": [
    {
     "name": "stdout",
     "output_type": "stream",
     "text": [
      "I'm an A!\n"
     ]
    }
   ],
   "source": [
    "easy_a.exclaim()"
   ]
  },
  {
   "cell_type": "code",
   "execution_count": 4,
   "metadata": {},
   "outputs": [
    {
     "name": "stdout",
     "output_type": "stream",
     "text": [
      "I'm an A!\n"
     ]
    }
   ],
   "source": [
    "A.exclaim(easy_a)"
   ]
  },
  {
   "cell_type": "markdown",
   "metadata": {},
   "source": [
    "Обратите внимание на то, что мы вызвали метод A.count (атрибут класса) вместо self.count (который является атрибутом объекта). В методе kids() мы использовали вызов cls.count, но с тем же успехом могли бы применять вызов A.count. \n",
    "\n",
    "Третий тип методов не влияет ни на классы, ни на объекты: он находится внутри класса только для удобства вместо того, чтобы располагаться где-то отдельно. Это статический метод, перед которым располагается декоратор @staticmethod, не имеющий в качестве начального параметра ни self, ни класс class. Рассмотрим пример, который служит в качестве рекламы класса CoyoteWeapon:"
   ]
  },
  {
   "cell_type": "code",
   "execution_count": 7,
   "metadata": {},
   "outputs": [
    {
     "name": "stdout",
     "output_type": "stream",
     "text": [
      "This CoyoteWeapon has been brought to you by Acme\n"
     ]
    }
   ],
   "source": [
    "class CoyoteWeapon():\n",
    "    @staticmethod\n",
    "    def commercial():\n",
    "        print('This CoyoteWeapon has been brought to you by Acme')\n",
    "\n",
    "CoyoteWeapon.commercial()"
   ]
  },
  {
   "cell_type": "markdown",
   "metadata": {},
   "source": [
    "Обратите внимание на то, что нам не нужно создавать объект класса CoyoteWeapon, чтобы получить доступ к этому методу. Это здорово."
   ]
  },
  {
   "cell_type": "markdown",
   "metadata": {},
   "source": [
    "# Магические методы\n",
    "\n",
    "Теперь вы можете создавать и использовать простые объекты, но опустимся немного глубже и сделаем нечто большее.\n",
    "\n",
    "Когда вы пишете что-то вроде a = 3 + 8, откуда целочисленные объекты со значениями 3 и 8 узнают, как реализовать операцию +? Кроме того, откуда a знает, как использовать =, чтобы получить результат? Вы можете воспользоваться этими операторами, применяя специальные методы Python (также можно назвать их магическими методами). \n",
    "\n",
    "Имена этих методов начинаются с двойных подчеркиваний (\\__) и заканчиваются ими. Вы уже видели один такой метод: \\_\\_init\\_\\_ инициализирует только что созданный объект с помощью описания его класса и любых аргументов, которые были переданы в этот метод.\n",
    "\n",
    "\n",
    "[Полный список методов](http://bit.ly/pydocs-smn)"
   ]
  },
  {
   "cell_type": "code",
   "execution_count": 10,
   "metadata": {},
   "outputs": [],
   "source": [
    "class Word():\n",
    "    def __init__(self, text):\n",
    "        self.text = text\n",
    "        \n",
    "    def __eq__(self, word2):\n",
    "        return self.text.lower() == word2.text.lower()\n",
    "    \n",
    "    def __str__(self):\n",
    "        return self.text\n",
    "    \n",
    "    def __repr__(self):\n",
    "        return f'Word(\"{self.text}\")'\n",
    "\n",
    "first = Word('ha')"
   ]
  },
  {
   "cell_type": "code",
   "execution_count": 11,
   "metadata": {},
   "outputs": [
    {
     "data": {
      "text/plain": [
       "Word(\"ha\")"
      ]
     },
     "execution_count": 11,
     "metadata": {},
     "output_type": "execute_result"
    }
   ],
   "source": [
    "first # используется __repr__\n"
   ]
  },
  {
   "cell_type": "code",
   "execution_count": 12,
   "metadata": {},
   "outputs": [
    {
     "name": "stdout",
     "output_type": "stream",
     "text": [
      "ha\n"
     ]
    }
   ],
   "source": [
    "print(first) # используется __str__"
   ]
  },
  {
   "cell_type": "markdown",
   "metadata": {},
   "source": [
    "# Когда лучше использовать классы и объекты, а когда — модули\n",
    "\n",
    "Рассмотрим несколько рекомендаций, которые помогут вам понять, где лучше разместить свой код — в классе или в модуле.\n",
    "\n",
    "- Объекты наиболее полезны, когда вам нужно иметь некоторое количество отдельных экземпляров с одинаковым поведением (методами), но различающихся внутренним состоянием (атрибутами).\n",
    "\n",
    "- Классы, в отличие от модулей, поддерживают наследование.\n",
    "\n",
    "- Если вам нужен только один объект, модуль подойдет лучше. Независимо от того, сколько обращений к модулю имеется в программе, будет загружена только одна копия. (Программистам на Java и С++: если вы знакомы с книгой Эриха Гаммы «Приемы объектно-ориентированного проектирования. Паттерны проектирования» (Gamma E. Design Patterns: Elements of Reusable Object-Oriented Software), можете использовать модули в Python как синглтоны.)\n",
    "\n",
    "- Если у вас есть несколько переменных, которые содержат разные значения и могут быть переданы как аргументы в несколько функций, лучше всего определить их как классы. Например, вы можете использовать словарь с ключами size и color, чтобы представить цветное изображение. Вы можете создать разные словари для каждого изображения в программе и передавать их в качестве аргументов в функции scale() и transform(). По мере добавления новых ключей и функций может начаться путаница. Более последовательно было бы определить класс Image с атрибутами size или color и методами scale() и transform(). В этом случае все данные и методы для работы с цветными изображениями будут определены в одном месте.\n",
    "\n",
    "- Используйте простейшее решение задачи. Словарь, список или кортеж проще,\n",
    "компактнее и быстрее, чем модуль, который, в свою очередь, проще, чем класс"
   ]
  },
  {
   "cell_type": "markdown",
   "metadata": {},
   "source": [
    "# Для самостоятельного обучения\n",
    "\n",
    "Кроме особенностей, связанных с наследованием, существуют другие формы реализации полиморфизма в Python.\n",
    "\n",
    "- Утиная типизация. Простой Python. Современный стиль программирования (c. 170-171)\n",
    "- Перегрузка функций. [Обучающий материал] (https://docs-python.ru/tutorial/opredelenie-funktsij-python/peregruzka-funktsij/)"
   ]
  },
  {
   "cell_type": "markdown",
   "metadata": {},
   "source": [
    "# Упражнения\n",
    "\n",
    "1. Создайте класс, который называется Thing, не имеющий содержимого, и выведите его на экран. Затем создайте объект example этого класса и также выведите\n",
    "его. Совпадают ли выведенные значения?\n",
    "\n",
    "2. Создайте новый класс с именем Thing2 и присвойте его атрибуту letters значение 'abc'. Выведите на экран значение атрибута letters.\n",
    "\n",
    "3. Создайте еще один класс, который, конечно же, называется Thing3. В этот раз присвойте значение 'xyz' атрибуту объекта, который называется letters. Выведите на экран значение атрибута letters. Понадобилось ли вам создавать объект класса, чтобы сделать это?\n",
    "\n",
    "4. Создайте класс, который называетсяElement, имеющий атрибуты объектаname, symbol и number. Создайте объект этого класса со значениями 'Hydrogen', 'H' и 1.\n",
    "\n",
    "5. Создайте словарь со следующими ключами и значениями: 'name': 'Hydrogen', 'symbol': 'H', 'number': 1. Далее создайте объект с именем hydrogen класса Element с помощью этого словаря.\n",
    "\n",
    "6. Для класса Element определите метод с именем dump(), который выводит на экран значения атрибутов объекта (name, symbol и number). Создайте объект hydrogen из этого нового определения и используйте метод dump(), чтобы вывести на экран его атрибуты.\n",
    "\n",
    "7. Вызовите функцию print(hydrogen). В определении класса Element измените имя метода dump на \\_\\_str\\_\\_, создайте новый объект hydrogen и затем снова вызовите\n",
    "метод print(hydrogen).\n",
    "\n",
    "8. Модифицируйте класс Element, сделав атрибуты name, symbol и number закрытыми. Определите для каждого атрибута свойство получателя, возвращающее значение соответствующего атрибута.\n",
    "\n",
    "9. Определите три класса: Bear, Rabbit и Octothorpe. Для каждого из них определите всего один метод — eats(). Он должен возвращать значения 'berries' (для\n",
    "Bear), 'clover' (для Rabbit) или 'campers' (для Octothorpe). Создайте по одному объекту каждого класса и выведите на экран то, что ест указанное животное.\n",
    "\n",
    "10. Определите три класса: Laser, Claw и SmartPhone. Каждый из них имеет только один метод — does(). Он возвращает значения 'disintegrate' (для Laser), 'crush' (для Claw) или 'ring' (для SmartPhone). Далее определите класс Robot, который содержит по одному объекту каждого из этих классов. Определите метод does() для класса Robot, который выводит на экран все, что делают его компоненты.\n"
   ]
  },
  {
   "cell_type": "code",
   "execution_count": 5,
   "metadata": {},
   "outputs": [
    {
     "name": "stdout",
     "output_type": "stream",
     "text": [
      "<class '__main__.Thing'>\n"
     ]
    }
   ],
   "source": [
    "class Thing:\n",
    "    pass\n",
    "\n",
    "print(Thing)"
   ]
  },
  {
   "cell_type": "code",
   "execution_count": 6,
   "metadata": {},
   "outputs": [
    {
     "name": "stdout",
     "output_type": "stream",
     "text": [
      "<__main__.Thing object at 0x7fac2705dbe0>\n"
     ]
    }
   ],
   "source": [
    "example = Thing()\n",
    "print(example)"
   ]
  },
  {
   "cell_type": "code",
   "execution_count": 9,
   "metadata": {},
   "outputs": [
    {
     "name": "stdout",
     "output_type": "stream",
     "text": [
      "abc\n"
     ]
    }
   ],
   "source": [
    "class Thing2:\n",
    "    letters = 'abc'\n",
    "print(Thing2.letters)"
   ]
  },
  {
   "cell_type": "code",
   "execution_count": null,
   "metadata": {},
   "outputs": [],
   "source": [
    "class Shape:\n",
    "    pass\n",
    "\n",
    "class Triangle(Shape):\n",
    "    pass\n",
    "\n",
    "class Rectangle(Shape):\n",
    "    pass\n"
   ]
  },
  {
   "cell_type": "code",
   "execution_count": null,
   "metadata": {},
   "outputs": [],
   "source": [
    "elements = {\"H\":1,\"He\":2}"
   ]
  }
 ],
 "metadata": {
  "kernelspec": {
   "display_name": "Python [conda env:.conda-Bio]",
   "language": "python",
   "name": "conda-env-.conda-Bio-py"
  },
  "language_info": {
   "codemirror_mode": {
    "name": "ipython",
    "version": 3
   },
   "file_extension": ".py",
   "mimetype": "text/x-python",
   "name": "python",
   "nbconvert_exporter": "python",
   "pygments_lexer": "ipython3",
   "version": "3.9.18"
  }
 },
 "nbformat": 4,
 "nbformat_minor": 4
}
