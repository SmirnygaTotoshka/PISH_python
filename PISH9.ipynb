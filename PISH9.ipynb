{
 "cells": [
  {
   "cell_type": "markdown",
   "id": "9a3c3ccf-89f9-49b6-9f1a-71adae35efa1",
   "metadata": {},
   "source": [
    "# Введение в объектно-ориентированное программирование. Инкапсуляция\n",
    "\n",
    "27.05.2025. Автор Смирнов Антон Сергеевич, ассистент кафедры биоинформатики МБФ РНИМУ им. Н.И. Пирогова\n",
    "\n",
    "Подготовлено в рамках курса по профессиональной переподготовки по биоинформатике передовой инженерной школы РНИМУ.\n",
    "\n",
    "## Введение\n",
    "\n",
    "В парадигме объектно-ориентированного программирования основной структурно-функциональной единицей служит **объект** - абстракция (модель), упрощенное представление окружающих нас предметов и/или явлений. Каждый объект обладает некоторыми **свойствами** и некоторым **поведением**. Причем программисты ни в коем случае не стремятся построить полную модель некоторого объекта, а берут только те свойства и то поведение, которое необъодимо для решения поставленной задачи. Свойства в программировании выражаются *переменными*, поведение - *функциями*.\n",
    "\n",
    "Объекты бывают разных типов и перед их использованием необходимо их создать. Для этого нужно создать \"чертёж\", шаблон, описывающий свойства и поведение объекта. Такие шаблоны называются **классами**."
   ]
  },
  {
   "cell_type": "code",
   "execution_count": 1,
   "id": "5a8f1e65-2d62-4423-a617-2aadf818dda7",
   "metadata": {},
   "outputs": [],
   "source": [
    "# определение самого простого пустого класса. Определение начинается с ключевого слова class. Затем идет имя класса и двоеточие\n",
    "# заглушка pass позволяет нам избежать синтаксической ошибки из-за незаконченности\n",
    "# Каждый класс уже обладает набором стандартных методов (например, приведение класса к строке)\n",
    "class Cat:\n",
    "    pass"
   ]
  },
  {
   "cell_type": "code",
   "execution_count": 2,
   "id": "3ef57012-cda8-4b52-b805-1484bb55ac8a",
   "metadata": {},
   "outputs": [
    {
     "name": "stdout",
     "output_type": "stream",
     "text": [
      "<__main__.Cat object at 0x7fdee4dd76d0>\n"
     ]
    }
   ],
   "source": [
    "# Так мы создаем конкретный объект (экземпляр класса). ИмяКласса() - специальная функция, создающаяя объект - конструктор.\n",
    "cat = Cat()\n",
    "print(cat)"
   ]
  },
  {
   "cell_type": "markdown",
   "id": "a451a555-abbb-46ea-a6c7-cfa909e7a864",
   "metadata": {},
   "source": [
    "Объектно-ориентированное программирование (ООП) базируется на 3 основопоагающих принципах:\n",
    "\n",
    "1. Инкапсуляция - управление доступом к свойствам и поведению объекта\n",
    "2. Наследование - передача свойств и поведения от класса-родителя к классу-наследнику.\n",
    "3. Полиморфизм - возможность создавать различные реализации одной абстрактной сущности.\n",
    "\n",
    "Полиморфизм (множество форм) реализуется с помощью наследования, когда мы можем создать иерархию классов: от самого абстрактного к конкретной реализации. \n",
    "\n",
    "![Схема](https://encrypted-tbn0.gstatic.com/images?q=tbn:ANd9GcQAq9ofazSiCpBKEG0pweawGgC2Jpq9i3JWEw&s)\n",
    "\n",
    "\n",
    "Все классы в языке уже являются наследниками класса object. Каждый класс будет наследовать черты своего родителя, но обладать отличной от родителя реализацией.\n",
    "\n",
    "Сегодняшний разговор будет об инкапсуляции, принципе который позволяет создавать безопасные интерфейсы взаимодействия с объектами за счет управления областью видимости дял окружения свойств и повдеения."
   ]
  },
  {
   "cell_type": "code",
   "execution_count": 3,
   "id": "b9c6a912-ee77-406b-bff3-9c97dbe63364",
   "metadata": {},
   "outputs": [],
   "source": [
    "class Cat:\n",
    "\"\"\"\n",
    "Дадим некоторой конкретики нашим котикам. \n",
    "Дадим им кличку, цвет шерсти и простое поведение (интерфейс взаимодействия с объектом): \n",
    "они должны говорить нам, как их зовут и какой у них цвет шерсти.\n",
    "\"\"\"\n",
    "\n",
    "    def __init__(self, сat_name, fur_color):# Сигнатура функции\n",
    "        \"\"\"\n",
    "         Одна из реализациий полиморфизма - переопределение (задание новой реализации) функций.\n",
    "         Здесь мы переопределяем конструктор, стандартную функцию унаследованную от object.\n",
    "         Имена таких функций начинаются и заканчиваются с двух нижних подчеркиваний.\n",
    "         \n",
    "         Первым аргументом в сигнатуре функций внутри классов ВСЕГДА идёт self. С помощью self мы получаем доступ к содержимому самого класса.\n",
    "        \n",
    "         Помним о нотации\n",
    "         \n",
    "         object_name.wanted_property - обращение к свойству некоторого объекта.\n",
    "\n",
    "         object_name.wanted_fun() - вызов функции некоторого объекта\n",
    "\n",
    "         self.wanted_property - обращение к свойству класса внутри класса\n",
    "\n",
    "         self.wanted_function() - вызов функции класса внутри класса\n",
    "         \n",
    "         В конструкторе мы инициализируем (задаём) свойства объекта. Их можно задавать в любом месте класса, здесь только те, которые нужны при создании\n",
    "         Конструкторов может быть несколько в классе.\n",
    "        \"\"\"\n",
    "        self.name = cat_name # Читаем как свойство самого класса равно параметру cat_name\n",
    "        self.fur_color = fur_color\n",
    "        \n",
    "    # Поведение выражается через функции. Поэтому здесь реалзиуем функции, которые должен уметь делать котик ПО ЗАДАНИЮ!\n",
    "    # Это обычные функции, только внутри класса. Не забываем про self \n",
    "    def who(self):\n",
    "        print(f\"My name is {self.name}.\")\n",
    "        \n",
    "    def looking(self):\n",
    "        return f\"I have {self.fur_color} fur!\""
   ]
  },
  {
   "cell_type": "code",
   "execution_count": 51,
   "id": "cc334e71-b31e-445b-99ae-23a13a2d6075",
   "metadata": {},
   "outputs": [
    {
     "name": "stdout",
     "output_type": "stream",
     "text": [
      "My name is Murzik.\n"
     ]
    }
   ],
   "source": [
    "# Создаем экземпляр котика путем вызова конструктора с конкретными значениями аргументов и просим котика представиться.\n",
    "kitty_example = Cat(\"Murzik\", \"orange\")\n",
    "kitty_example.who()"
   ]
  },
  {
   "cell_type": "code",
   "execution_count": 52,
   "id": "b13be083-4183-464f-8f7d-cb47c52dea3e",
   "metadata": {},
   "outputs": [
    {
     "name": "stdout",
     "output_type": "stream",
     "text": [
      "I have orange fur!\n"
     ]
    }
   ],
   "source": [
    "# Какая же шерсть у котика?\n",
    "murzik_fur_color = kitty_example.looking()\n",
    "print(murzik_fur_color)"
   ]
  },
  {
   "cell_type": "markdown",
   "id": "9528601c-f351-4aee-a1a5-b499ed425d53",
   "metadata": {},
   "source": [
    "## Задание\n",
    "\n",
    "Реализуйте по аналогии класс Собака. Свойства: кличка и порода. Поведение: представиться (назвать кличку и породу), гавкать.\n",
    "\n",
    "\n",
    "\n",
    "\n",
    "### Ответ"
   ]
  },
  {
   "cell_type": "code",
   "execution_count": 8,
   "id": "fcb4808f-d83a-438d-8df1-4bdc0d5ba492",
   "metadata": {},
   "outputs": [
    {
     "name": "stdout",
     "output_type": "stream",
     "text": [
      "My name is Bobby. My breed is redneck.\n",
      "Hoof Hoof!\n"
     ]
    }
   ],
   "source": [
    "class Dog:\n",
    "    \n",
    "    def __init__(self, name, breed):\n",
    "        self.name = name\n",
    "        self.breed = breed\n",
    "        \n",
    "    def who(self):\n",
    "        print(f\"My name is {self.name}. My breed is {self.breed}.\")\n",
    "        \n",
    "    def bark(self):\n",
    "        print(\"Hoof Hoof!\")\n",
    "        \n",
    "doggy = Dog(\"Bobby\",\"redneck\")\n",
    "doggy.who()\n",
    "doggy.bark()"
   ]
  },
  {
   "cell_type": "markdown",
   "id": "2ae301ab-089f-4cf2-bbda-728ccdb2478b",
   "metadata": {},
   "source": [
    "## Управление доступом\n",
    "\n",
    "Существуют три уровня доступа:\n",
    "\n",
    "- открытый (public) - переменная или функция доступна всем\n",
    "- защищенный (protected) - переменная или функция доступна только самому классу и его наследникам.\n",
    "- скрытый (private) - переменная или функция доступна только самому классу\n",
    "\n",
    "Открытый уровень доступа означает, что ничего не мешает нам в любом месте обратиться к переменной или функции объекта и/или изменить его состояние. Это небезопасно, поэтому рекомендуется разделять переменный и функции по области видимости, оставляя открытой как можно меньшую часть программы."
   ]
  },
  {
   "cell_type": "code",
   "execution_count": 53,
   "id": "e6bee4ba-9ce3-4eeb-9de4-3510c4024a8a",
   "metadata": {},
   "outputs": [
    {
     "data": {
      "text/plain": [
       "'Bobby'"
      ]
     },
     "execution_count": 53,
     "metadata": {},
     "output_type": "execute_result"
    }
   ],
   "source": [
    "# Мы так можем сделать в случае публичного доступа\n",
    "doggy.name"
   ]
  },
  {
   "cell_type": "markdown",
   "id": "b8ae53f7-7aa6-4b3d-b8ba-4595694d591d",
   "metadata": {},
   "source": [
    "В Python все переменные и функции класса являются изначально открытыми. Разделение уровней доступа происходит на уровне соглашений имён. \n",
    "\n",
    "- Имя скрытой переменной/функции начинается с двух нижних подчеркиваний\n",
    "- Имя защищённой переменной/функции начинается с одного нижнего подчеркивания"
   ]
  },
  {
   "cell_type": "code",
   "execution_count": 60,
   "id": "71031a6b-b445-4f9a-b562-9adce970f659",
   "metadata": {},
   "outputs": [],
   "source": [
    "class Penguin:\n",
    "    \n",
    "    def __init__(self, name, color):\n",
    "        self.__name = name # Приватное поле name\n",
    "        self.__color = color\n",
    "        \n",
    "    def __get_info(self):#Приватная функция\n",
    "        print(f\"penguin {self.__name} {self.__color}\")"
   ]
  },
  {
   "cell_type": "code",
   "execution_count": 61,
   "id": "f2fdab91-83a1-40fb-a591-440480d4c799",
   "metadata": {},
   "outputs": [
    {
     "ename": "AttributeError",
     "evalue": "'Penguin' object has no attribute '__name'",
     "output_type": "error",
     "traceback": [
      "\u001b[0;31m---------------------------------------------------------------------------\u001b[0m",
      "\u001b[0;31mAttributeError\u001b[0m                            Traceback (most recent call last)",
      "Cell \u001b[0;32mIn[61], line 2\u001b[0m\n\u001b[1;32m      1\u001b[0m p \u001b[38;5;241m=\u001b[39m Penguin(\u001b[38;5;124m\"\u001b[39m\u001b[38;5;124mGerda\u001b[39m\u001b[38;5;124m\"\u001b[39m, \u001b[38;5;124m\"\u001b[39m\u001b[38;5;124mblack\u001b[39m\u001b[38;5;124m\"\u001b[39m)\n\u001b[0;32m----> 2\u001b[0m \u001b[43mp\u001b[49m\u001b[38;5;241;43m.\u001b[39;49m\u001b[43m__name\u001b[49m\n",
      "\u001b[0;31mAttributeError\u001b[0m: 'Penguin' object has no attribute '__name'"
     ]
    }
   ],
   "source": [
    "p = Penguin(\"Gerda\", \"black\")\n",
    "p.__name"
   ]
  },
  {
   "cell_type": "code",
   "execution_count": 62,
   "id": "9b640cb1-6b94-476f-830a-61c65b392a00",
   "metadata": {},
   "outputs": [
    {
     "ename": "AttributeError",
     "evalue": "'Penguin' object has no attribute '__get_info'",
     "output_type": "error",
     "traceback": [
      "\u001b[0;31m---------------------------------------------------------------------------\u001b[0m",
      "\u001b[0;31mAttributeError\u001b[0m                            Traceback (most recent call last)",
      "Cell \u001b[0;32mIn[62], line 1\u001b[0m\n\u001b[0;32m----> 1\u001b[0m \u001b[43mp\u001b[49m\u001b[38;5;241;43m.\u001b[39;49m\u001b[43m__get_info\u001b[49m()\n",
      "\u001b[0;31mAttributeError\u001b[0m: 'Penguin' object has no attribute '__get_info'"
     ]
    }
   ],
   "source": [
    "p.__get_info()"
   ]
  },
  {
   "cell_type": "markdown",
   "id": "044d32a4-547a-44fe-8ce7-bcd21105e9c3",
   "metadata": {},
   "source": [
    "Как можно заметить, обратиться к скрытым полям и вызвать скрытую функцию снаружи класса напрямую нельзя. Способ есть, но в педагогических целях не показывается, потому что так делать плохо!\n",
    "\n",
    "Программисты могут управлять доступом к скрытым или защищенным полям с помощью определения специальных функций, которые на жаргоне называют геттеры (для чтения) и сеттеры (для изменения). Наличие этих функций определяет права на эту переменную снаружи класса для пользователя. Их можно определять как обычные функции, а можно оборачивать их в специальные **декораторы**. Будет продемонстрировано оба подхода.\n",
    "\n",
    "Декораторы будут разобраны на дальнейших занятиях. Пока следует знать, что это приспособления для расширения текущих возможностей без изменения уже имеющихся."
   ]
  },
  {
   "cell_type": "code",
   "execution_count": 64,
   "id": "826d7915-caff-46ff-ba5a-2410840f27e5",
   "metadata": {},
   "outputs": [
    {
     "name": "stdout",
     "output_type": "stream",
     "text": [
      "My first name is Helga\n",
      "Now my name is Olga\n"
     ]
    }
   ],
   "source": [
    "class Penguin:\n",
    "    # реализация через обычные геттеры/сеттеры\n",
    "    def __init__(self, name, color):\n",
    "        self.__name = name # Приватное поле name\n",
    "        self.__color = color\n",
    "\n",
    "    # Геттер. Просто возвращает значение скрытого атрибута. Таккой геттер ещё называют тривиальным\n",
    "    def get_name(self):\n",
    "        return self.__name\n",
    "    # Сеттер. Просто изменяет значение скрытого атрибута.\n",
    "    def set_name(self, new_name):\n",
    "        self.__name = new_name\n",
    "    \n",
    "p = Penguin(\"Helga\",\"black\")\n",
    "print(f\"My first name is {p.get_name()}\")\n",
    "p.set_name(\"Olga\")\n",
    "print(f\"Now my name is {p.get_name()}\")"
   ]
  },
  {
   "cell_type": "code",
   "execution_count": 66,
   "id": "af718507-8333-4e7b-a2d4-818e390b0268",
   "metadata": {},
   "outputs": [
    {
     "name": "stdout",
     "output_type": "stream",
     "text": [
      "My first name is Helga\n",
      "Now my name is Olga\n"
     ]
    }
   ],
   "source": [
    "class Penguin:\n",
    "    # Реализация через декораторы\n",
    "    # такая реализация наиболее принята в Python\n",
    "    def __init__(self, name):\n",
    "        self.__name = name\n",
    "    \n",
    "    @property# Так функция оборачивается в декоратор. @имя_декоратора над сигнатурой функции\n",
    "    def name(self):\n",
    "        return self.__name\n",
    "    # Здесь важно обратить фнимание на имя декоратора. @property_name.setter\n",
    "    # Вместо property_name имя соответствующей функции с декоратором property\n",
    "    @name.setter\n",
    "    def name(self, new_name):\n",
    "        self.__name = new_name\n",
    "        \n",
    "p = Penguin(\"Helga\")\n",
    "print(f\"My first name is {p.name}\")\n",
    "p.name = \"Olga\"\n",
    "print(f\"Now my name is {p.name}\")"
   ]
  },
  {
   "cell_type": "markdown",
   "id": "00289518-34bd-49a4-baa8-9895a95ee8ca",
   "metadata": {},
   "source": [
    "По сути мы заменили вызов функции на обращение к переменной, что является более быстрой операцией"
   ]
  },
  {
   "cell_type": "code",
   "execution_count": 67,
   "id": "1e20ecf4-c6a7-45e5-a8cc-d0a2f0fd5207",
   "metadata": {},
   "outputs": [
    {
     "data": {
      "text/plain": [
       "str"
      ]
     },
     "execution_count": 67,
     "metadata": {},
     "output_type": "execute_result"
    }
   ],
   "source": [
    "type(p.name)"
   ]
  },
  {
   "cell_type": "markdown",
   "id": "d9ef0393-7337-42c2-b766-7f9a9f739720",
   "metadata": {},
   "source": [
    "Свойство может возвращать не только значение, но измененное по какой-то логике. Если отсутствует сеттер, мы не сможем его изменить. Взгляните внимательно на пример с классом Круг. Для его создание необходим радиус, но мы можем также определить свойство диаметра, которое пользователь не сможет изменить, что логично, т.к. он зависит от радиуса."
   ]
  },
  {
   "cell_type": "code",
   "execution_count": 68,
   "id": "72d36ebb-5a9d-4388-b7be-0cd1d9a796f6",
   "metadata": {},
   "outputs": [],
   "source": [
    "class Circle:\n",
    "    \n",
    "    def __init__(self, radius):\n",
    "        self.__radius = radius\n",
    "        \n",
    "    @property\n",
    "    def diametr(self):\n",
    "        return 2 * self.__radius"
   ]
  },
  {
   "cell_type": "code",
   "execution_count": 69,
   "id": "44b89b98-2869-461f-adbe-924c9378332d",
   "metadata": {},
   "outputs": [
    {
     "data": {
      "text/plain": [
       "10"
      ]
     },
     "execution_count": 69,
     "metadata": {},
     "output_type": "execute_result"
    }
   ],
   "source": [
    "c = Circle(5)\n",
    "c.diametr"
   ]
  },
  {
   "cell_type": "code",
   "execution_count": 70,
   "id": "1ce67b68-dabf-4d39-80ba-eebc399d4fb9",
   "metadata": {},
   "outputs": [
    {
     "ename": "AttributeError",
     "evalue": "can't set attribute 'diametr'",
     "output_type": "error",
     "traceback": [
      "\u001b[0;31m---------------------------------------------------------------------------\u001b[0m",
      "\u001b[0;31mAttributeError\u001b[0m                            Traceback (most recent call last)",
      "Cell \u001b[0;32mIn[70], line 1\u001b[0m\n\u001b[0;32m----> 1\u001b[0m c\u001b[38;5;241m.\u001b[39mdiametr \u001b[38;5;241m=\u001b[39m \u001b[38;5;241m13\u001b[39m\n",
      "\u001b[0;31mAttributeError\u001b[0m: can't set attribute 'diametr'"
     ]
    }
   ],
   "source": [
    "c.diametr = 13"
   ]
  },
  {
   "cell_type": "markdown",
   "id": "fd561350-d78f-4063-aa6c-e7b811ed76d3",
   "metadata": {},
   "source": [
    "## Задание\n",
    "\n",
    "Реализуйте класс треугольник. Стороны должны быть скрытыми свойствами. Реализуйте свойства периметр и площадь (теорема Герона). Реализуйте в конструкторе проверку на треугольность (теорема о соотношении сторон треугольника), в случае нарушения выбрасывайте исключение, которое в дальнейшем будете обрабатывать. Реализуйте функцию внутри класса для расчета углов между сторонами треугольника. Напишите программу для демонстрации возможностей класса."
   ]
  }
 ],
 "metadata": {
  "kernelspec": {
   "display_name": "Python [conda env:.conda-disser]",
   "language": "python",
   "name": "conda-env-.conda-disser-py"
  },
  "language_info": {
   "codemirror_mode": {
    "name": "ipython",
    "version": 3
   },
   "file_extension": ".py",
   "mimetype": "text/x-python",
   "name": "python",
   "nbconvert_exporter": "python",
   "pygments_lexer": "ipython3",
   "version": "3.10.15"
  }
 },
 "nbformat": 4,
 "nbformat_minor": 5
}
